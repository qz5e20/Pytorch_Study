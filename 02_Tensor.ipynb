{
 "cells": [
  {
   "cell_type": "code",
   "execution_count": 1,
   "id": "894f0933",
   "metadata": {},
   "outputs": [],
   "source": [
    "import torch"
   ]
  },
  {
   "cell_type": "code",
   "execution_count": 2,
   "id": "02c3db14",
   "metadata": {},
   "outputs": [],
   "source": [
    "x = [ 2, 9, 5, 16, 23, 35]"
   ]
  },
  {
   "cell_type": "code",
   "execution_count": 3,
   "id": "da174ff1",
   "metadata": {},
   "outputs": [
    {
     "data": {
      "text/plain": [
       "False"
      ]
     },
     "execution_count": 3,
     "metadata": {},
     "output_type": "execute_result"
    }
   ],
   "source": [
    "#检查是否为tensor对象\n",
    "torch.is_tensor(x)"
   ]
  },
  {
   "cell_type": "code",
   "execution_count": 5,
   "id": "2eb0f332",
   "metadata": {},
   "outputs": [
    {
     "data": {
      "text/plain": [
       "tensor([[0.7914, 0.8993]])"
      ]
     },
     "execution_count": 5,
     "metadata": {},
     "output_type": "execute_result"
    }
   ],
   "source": [
    "y = torch.rand(1,2)\n",
    "y"
   ]
  },
  {
   "cell_type": "code",
   "execution_count": 6,
   "id": "b1dd4d82",
   "metadata": {},
   "outputs": [
    {
     "data": {
      "text/plain": [
       "True"
      ]
     },
     "execution_count": 6,
     "metadata": {},
     "output_type": "execute_result"
    }
   ],
   "source": [
    "torch.is_tensor(y)"
   ]
  },
  {
   "cell_type": "code",
   "execution_count": 7,
   "id": "2eead751",
   "metadata": {},
   "outputs": [
    {
     "data": {
      "text/plain": [
       "2"
      ]
     },
     "execution_count": 7,
     "metadata": {},
     "output_type": "execute_result"
    }
   ],
   "source": [
    "torch.numel(y) #统计tensor中的元素个数"
   ]
  },
  {
   "cell_type": "code",
   "execution_count": 10,
   "id": "296951f2",
   "metadata": {},
   "outputs": [],
   "source": [
    "#创建全0的tensor\n",
    "z = torch.zeros(3,3)"
   ]
  },
  {
   "cell_type": "code",
   "execution_count": 11,
   "id": "5777778f",
   "metadata": {},
   "outputs": [
    {
     "data": {
      "text/plain": [
       "9"
      ]
     },
     "execution_count": 11,
     "metadata": {},
     "output_type": "execute_result"
    }
   ],
   "source": [
    "torch.numel(z)"
   ]
  },
  {
   "cell_type": "code",
   "execution_count": 12,
   "id": "9b45a7b6",
   "metadata": {},
   "outputs": [
    {
     "data": {
      "text/plain": [
       "tensor([[1., 0., 0.],\n",
       "        [0., 1., 0.],\n",
       "        [0., 0., 1.]])"
      ]
     },
     "execution_count": 12,
     "metadata": {},
     "output_type": "execute_result"
    }
   ],
   "source": [
    "#创建对角线为1的tensor\n",
    "torch.eye(3,3)"
   ]
  },
  {
   "cell_type": "code",
   "execution_count": 13,
   "id": "e0d154bd",
   "metadata": {},
   "outputs": [
    {
     "data": {
      "text/plain": [
       "array([3, 4, 5, 6, 7])"
      ]
     },
     "execution_count": 13,
     "metadata": {},
     "output_type": "execute_result"
    }
   ],
   "source": [
    "#将numpy转化为tensor\n",
    "import numpy as np\n",
    "\n",
    "x = np.array([ 3, 4, 5, 6, 7])\n",
    "x"
   ]
  },
  {
   "cell_type": "code",
   "execution_count": 14,
   "id": "8798d867",
   "metadata": {},
   "outputs": [
    {
     "data": {
      "text/plain": [
       "tensor([3, 4, 5, 6, 7], dtype=torch.int32)"
      ]
     },
     "execution_count": 14,
     "metadata": {},
     "output_type": "execute_result"
    }
   ],
   "source": [
    "torch.from_numpy(x)"
   ]
  },
  {
   "cell_type": "code",
   "execution_count": 15,
   "id": "ccba16bf",
   "metadata": {},
   "outputs": [
    {
     "data": {
      "text/plain": [
       "tensor([ 2.,  4.,  6.,  8., 10.])"
      ]
     },
     "execution_count": 15,
     "metadata": {},
     "output_type": "execute_result"
    }
   ],
   "source": [
    "#切分 linspace\n",
    "torch.linspace( 2, 10, steps=5)"
   ]
  },
  {
   "cell_type": "code",
   "execution_count": 16,
   "id": "67dfb1c9",
   "metadata": {},
   "outputs": [
    {
     "data": {
      "text/plain": [
       "tensor([ 2.0000,  2.8889,  3.7778,  4.6667,  5.5556,  6.4444,  7.3333,  8.2222,\n",
       "         9.1111, 10.0000])"
      ]
     },
     "execution_count": 16,
     "metadata": {},
     "output_type": "execute_result"
    }
   ],
   "source": [
    "torch.linspace( 2, 10, steps=10) #steps 表示切分成几份"
   ]
  },
  {
   "cell_type": "code",
   "execution_count": 17,
   "id": "1312ebbc",
   "metadata": {},
   "outputs": [
    {
     "data": {
      "text/plain": [
       "tensor([0.8733, 0.8644, 0.9699, 0.6772, 0.2871, 0.9315, 0.3337, 0.2239, 0.7818,\n",
       "        0.6542])"
      ]
     },
     "execution_count": 17,
     "metadata": {},
     "output_type": "execute_result"
    }
   ],
   "source": [
    "#创建均匀的分布，值在0-1之间\n",
    "torch.rand(10)"
   ]
  },
  {
   "cell_type": "code",
   "execution_count": 19,
   "id": "48d62bf5",
   "metadata": {},
   "outputs": [
    {
     "data": {
      "text/plain": [
       "tensor([ 2.4344, -1.7181, -0.2946,  0.1902,  0.8805,  0.2268, -0.4094,  1.6254,\n",
       "        -1.7792, -0.9363])"
      ]
     },
     "execution_count": 19,
     "metadata": {},
     "output_type": "execute_result"
    }
   ],
   "source": [
    "#正态分布，均值为0，方差为1\n",
    "torch.randn(10)"
   ]
  },
  {
   "cell_type": "code",
   "execution_count": 20,
   "id": "50d5c1fd",
   "metadata": {},
   "outputs": [
    {
     "data": {
      "text/plain": [
       "tensor([6, 4, 2, 0, 3, 7, 8, 5, 9, 1])"
      ]
     },
     "execution_count": 20,
     "metadata": {},
     "output_type": "execute_result"
    }
   ],
   "source": [
    "#选择随机数\n",
    "torch.randperm(10)"
   ]
  },
  {
   "cell_type": "code",
   "execution_count": 21,
   "id": "ffbcd1e5",
   "metadata": {},
   "outputs": [
    {
     "data": {
      "text/plain": [
       "tensor([10, 15, 20, 25])"
      ]
     },
     "execution_count": 21,
     "metadata": {},
     "output_type": "execute_result"
    }
   ],
   "source": [
    "#生成一个区间的数 \n",
    "torch.arange( 10 ,30, 5) #前两个范围，最后是步长，是个开区间"
   ]
  },
  {
   "cell_type": "code",
   "execution_count": 22,
   "id": "cd054ca5",
   "metadata": {},
   "outputs": [
    {
     "data": {
      "text/plain": [
       "tensor([[41, 12, 39],\n",
       "        [10, 54, 94],\n",
       "        [11, 50, 50]])"
      ]
     },
     "execution_count": 22,
     "metadata": {},
     "output_type": "execute_result"
    }
   ],
   "source": [
    "#获取行或列的最大最小值\n",
    "x = torch.randint( 1, 99,(3,3))\n",
    "x"
   ]
  },
  {
   "cell_type": "code",
   "execution_count": 23,
   "id": "e4b96152",
   "metadata": {},
   "outputs": [
    {
     "data": {
      "text/plain": [
       "tensor([1, 0, 0])"
      ]
     },
     "execution_count": 23,
     "metadata": {},
     "output_type": "execute_result"
    }
   ],
   "source": [
    "torch.argmin(x, dim=0) #每一列最小值的位置"
   ]
  },
  {
   "cell_type": "code",
   "execution_count": 24,
   "id": "4c427897",
   "metadata": {},
   "outputs": [
    {
     "data": {
      "text/plain": [
       "tensor([0, 1, 1])"
      ]
     },
     "execution_count": 24,
     "metadata": {},
     "output_type": "execute_result"
    }
   ],
   "source": [
    "torch.argmax(x, dim=0)"
   ]
  },
  {
   "cell_type": "code",
   "execution_count": 26,
   "id": "3824d52c",
   "metadata": {},
   "outputs": [
    {
     "data": {
      "text/plain": [
       "tensor([[3, 2, 3],\n",
       "        [2, 9, 3]])"
      ]
     },
     "execution_count": 26,
     "metadata": {},
     "output_type": "execute_result"
    }
   ],
   "source": [
    "#连接\n",
    "x = torch.randint(1,10,(2,3))\n",
    "x"
   ]
  },
  {
   "cell_type": "code",
   "execution_count": 27,
   "id": "9806e4f2",
   "metadata": {},
   "outputs": [
    {
     "data": {
      "text/plain": [
       "tensor([[3, 2, 3],\n",
       "        [2, 9, 3],\n",
       "        [3, 2, 3],\n",
       "        [2, 9, 3]])"
      ]
     },
     "execution_count": 27,
     "metadata": {},
     "output_type": "execute_result"
    }
   ],
   "source": [
    "torch.cat((x,x))"
   ]
  },
  {
   "cell_type": "code",
   "execution_count": 28,
   "id": "eaff3e1f",
   "metadata": {},
   "outputs": [
    {
     "data": {
      "text/plain": [
       "tensor([[3, 2, 3, 3, 2, 3],\n",
       "        [2, 9, 3, 2, 9, 3]])"
      ]
     },
     "execution_count": 28,
     "metadata": {},
     "output_type": "execute_result"
    }
   ],
   "source": [
    "torch.cat((x,x), dim=1) #1s是横轴，默认是0"
   ]
  },
  {
   "cell_type": "code",
   "execution_count": 29,
   "id": "b96b8e7f",
   "metadata": {},
   "outputs": [
    {
     "data": {
      "text/plain": [
       "tensor([[7, 8, 7],\n",
       "        [9, 4, 2],\n",
       "        [9, 7, 8]])"
      ]
     },
     "execution_count": 29,
     "metadata": {},
     "output_type": "execute_result"
    }
   ],
   "source": [
    "# chunk 切块\n",
    "a = torch.randint(1,10,(3,3))\n",
    "a"
   ]
  },
  {
   "cell_type": "code",
   "execution_count": 34,
   "id": "4fd134fe",
   "metadata": {},
   "outputs": [
    {
     "data": {
      "text/plain": [
       "(tensor([[7, 8, 7],\n",
       "         [9, 4, 2]]),\n",
       " tensor([[9, 7, 8]]))"
      ]
     },
     "execution_count": 34,
     "metadata": {},
     "output_type": "execute_result"
    }
   ],
   "source": [
    "'''\n",
    "torch.chunk(input, chunks, dim=0) → List of Tensors\n",
    "Splits a tensor into a specific number of chunks. Each chunk is a view of the input tensor.\n",
    "\n",
    "Last chunk will be smaller if the tensor size along the given dimension dim is not divisible by chunks.\n",
    "\n",
    "Parameters\n",
    "input (Tensor) – the tensor to split\n",
    "\n",
    "chunks (int) – number of chunks to return\n",
    "\n",
    "dim (int) – dimension along which to split the tensor\n",
    "'''\n",
    "torch.chunk(a,2,0) "
   ]
  },
  {
   "cell_type": "code",
   "execution_count": 35,
   "id": "12a3df39",
   "metadata": {},
   "outputs": [
    {
     "data": {
      "text/plain": [
       "(tensor([[7],\n",
       "         [9],\n",
       "         [9]]),\n",
       " tensor([[8],\n",
       "         [4],\n",
       "         [7]]),\n",
       " tensor([[7],\n",
       "         [2],\n",
       "         [8]]))"
      ]
     },
     "execution_count": 35,
     "metadata": {},
     "output_type": "execute_result"
    }
   ],
   "source": [
    "torch.chunk(a,3,1)"
   ]
  },
  {
   "cell_type": "code",
   "execution_count": 37,
   "id": "3af89bd6",
   "metadata": {},
   "outputs": [
    {
     "data": {
      "text/plain": [
       "tensor([[ 0.4864,  0.7988,  1.5037,  0.7101],\n",
       "        [ 0.5547, -0.1214,  1.6272,  0.6033],\n",
       "        [ 0.6982,  2.4126, -0.5919,  0.6042],\n",
       "        [-0.0585,  0.4432, -1.3733, -0.3579]])"
      ]
     },
     "execution_count": 37,
     "metadata": {},
     "output_type": "execute_result"
    }
   ],
   "source": [
    "# 根据索引选择\n",
    "x = torch.randn(4,4)\n",
    "x"
   ]
  },
  {
   "cell_type": "code",
   "execution_count": 38,
   "id": "f0264755",
   "metadata": {},
   "outputs": [],
   "source": [
    "indices = torch.tensor([0,2])"
   ]
  },
  {
   "cell_type": "code",
   "execution_count": 39,
   "id": "7646f116",
   "metadata": {},
   "outputs": [
    {
     "data": {
      "text/plain": [
       "tensor([[ 0.4864,  0.7988,  1.5037,  0.7101],\n",
       "        [ 0.6982,  2.4126, -0.5919,  0.6042]])"
      ]
     },
     "execution_count": 39,
     "metadata": {},
     "output_type": "execute_result"
    }
   ],
   "source": [
    "torch.index_select(x,0,indices)"
   ]
  },
  {
   "cell_type": "code",
   "execution_count": 40,
   "id": "b789a2c6",
   "metadata": {},
   "outputs": [
    {
     "data": {
      "text/plain": [
       "tensor([1, 2, 3, 4, 5, 6, 7])"
      ]
     },
     "execution_count": 40,
     "metadata": {},
     "output_type": "execute_result"
    }
   ],
   "source": [
    "#分割\n",
    "x = torch.tensor([1,2,3,4,5,6,7])\n",
    "x"
   ]
  },
  {
   "cell_type": "code",
   "execution_count": 42,
   "id": "e1cd1e36",
   "metadata": {},
   "outputs": [
    {
     "data": {
      "text/plain": [
       "(tensor([1, 2, 3]), tensor([4, 5, 6]), tensor([7]))"
      ]
     },
     "execution_count": 42,
     "metadata": {},
     "output_type": "execute_result"
    }
   ],
   "source": [
    "torch.split(x,3)"
   ]
  },
  {
   "cell_type": "code",
   "execution_count": 45,
   "id": "2bd74885",
   "metadata": {},
   "outputs": [
    {
     "data": {
      "text/plain": [
       "tensor([[1, 2],\n",
       "        [3, 4]])"
      ]
     },
     "execution_count": 45,
     "metadata": {},
     "output_type": "execute_result"
    }
   ],
   "source": [
    "#转置\n",
    "x = torch.tensor([[1,2],[3,4]])\n",
    "x"
   ]
  },
  {
   "cell_type": "code",
   "execution_count": 46,
   "id": "af40a9e7",
   "metadata": {},
   "outputs": [
    {
     "data": {
      "text/plain": [
       "tensor([[1, 3],\n",
       "        [2, 4]])"
      ]
     },
     "execution_count": 46,
     "metadata": {},
     "output_type": "execute_result"
    }
   ],
   "source": [
    "x.t()"
   ]
  },
  {
   "cell_type": "code",
   "execution_count": 48,
   "id": "98b77759",
   "metadata": {},
   "outputs": [
    {
     "data": {
      "text/plain": [
       "tensor([[1, 3],\n",
       "        [2, 4]])"
      ]
     },
     "execution_count": 48,
     "metadata": {},
     "output_type": "execute_result"
    }
   ],
   "source": [
    "x.transpose(1,0)"
   ]
  },
  {
   "cell_type": "code",
   "execution_count": 49,
   "id": "58325041",
   "metadata": {},
   "outputs": [
    {
     "data": {
      "text/plain": [
       "tensor([[1, 2],\n",
       "        [3, 4]])"
      ]
     },
     "execution_count": 49,
     "metadata": {},
     "output_type": "execute_result"
    }
   ],
   "source": [
    "# 运算\n",
    "x = torch.tensor([[1,2],[3,4]])\n",
    "x"
   ]
  },
  {
   "cell_type": "code",
   "execution_count": 50,
   "id": "5cb829a5",
   "metadata": {},
   "outputs": [
    {
     "data": {
      "text/plain": [
       "tensor([[2, 3],\n",
       "        [4, 5]])"
      ]
     },
     "execution_count": 50,
     "metadata": {},
     "output_type": "execute_result"
    }
   ],
   "source": [
    "torch.add(x,1)"
   ]
  },
  {
   "cell_type": "code",
   "execution_count": 51,
   "id": "d8f8353f",
   "metadata": {},
   "outputs": [
    {
     "data": {
      "text/plain": [
       "tensor([[2, 4],\n",
       "        [6, 8]])"
      ]
     },
     "execution_count": 51,
     "metadata": {},
     "output_type": "execute_result"
    }
   ],
   "source": [
    "torch.mul(x,2)"
   ]
  },
  {
   "cell_type": "code",
   "execution_count": 52,
   "id": "c3fd5012",
   "metadata": {},
   "outputs": [
    {
     "data": {
      "text/plain": [
       "tensor([[0.9665, 0.9646, 0.0204],\n",
       "        [0.4142, 0.6003, 0.1426]])"
      ]
     },
     "execution_count": 52,
     "metadata": {},
     "output_type": "execute_result"
    }
   ],
   "source": [
    "#索引获取\n",
    "x = torch.rand(2,3)\n",
    "x"
   ]
  },
  {
   "cell_type": "code",
   "execution_count": 55,
   "id": "4339c037",
   "metadata": {},
   "outputs": [
    {
     "data": {
      "text/plain": [
       "tensor([0.9665, 0.0204, 0.1426])"
      ]
     },
     "execution_count": 55,
     "metadata": {},
     "output_type": "execute_result"
    }
   ],
   "source": [
    "torch.take(x,torch.tensor([0,2,5]))"
   ]
  },
  {
   "cell_type": "code",
   "execution_count": 57,
   "id": "6b36ef6f",
   "metadata": {},
   "outputs": [
    {
     "data": {
      "text/plain": [
       "tensor([[1, 2, 3],\n",
       "        [4, 5, 6],\n",
       "        [7, 8, 9]])"
      ]
     },
     "execution_count": 57,
     "metadata": {},
     "output_type": "execute_result"
    }
   ],
   "source": [
    "#缩小,返回一个更窄的张量\n",
    "x = torch.tensor([[1,2,3],[4,5,6],[7,8,9]])\n",
    "x"
   ]
  },
  {
   "cell_type": "code",
   "execution_count": 60,
   "id": "13615ad2",
   "metadata": {},
   "outputs": [
    {
     "data": {
      "text/plain": [
       "tensor([[1, 2, 3],\n",
       "        [4, 5, 6]])"
      ]
     },
     "execution_count": 60,
     "metadata": {},
     "output_type": "execute_result"
    }
   ],
   "source": [
    "'''\n",
    "torch.narrow(input, dim, start, length) \n",
    "nput (Tensor) – the tensor to narrow\n",
    "dim (int) – the dimension along which to narrow\n",
    "start (int) – the starting dimension\n",
    "length (int) – the distance to the ending dimension\n",
    "'''\n",
    "torch.narrow(x,0,0,2)"
   ]
  },
  {
   "cell_type": "code",
   "execution_count": 59,
   "id": "b774dcf0",
   "metadata": {},
   "outputs": [
    {
     "data": {
      "text/plain": [
       "tensor([[2, 3],\n",
       "        [5, 6],\n",
       "        [8, 9]])"
      ]
     },
     "execution_count": 59,
     "metadata": {},
     "output_type": "execute_result"
    }
   ],
   "source": [
    "torch.narrow(x,1,1,2)"
   ]
  },
  {
   "cell_type": "code",
   "execution_count": null,
   "id": "c7a61ba7",
   "metadata": {},
   "outputs": [],
   "source": []
  }
 ],
 "metadata": {
  "kernelspec": {
   "display_name": "Python 3",
   "language": "python",
   "name": "python3"
  },
  "language_info": {
   "codemirror_mode": {
    "name": "ipython",
    "version": 3
   },
   "file_extension": ".py",
   "mimetype": "text/x-python",
   "name": "python",
   "nbconvert_exporter": "python",
   "pygments_lexer": "ipython3",
   "version": "3.8.8"
  }
 },
 "nbformat": 4,
 "nbformat_minor": 5
}
