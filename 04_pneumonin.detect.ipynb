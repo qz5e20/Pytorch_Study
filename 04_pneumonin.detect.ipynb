{
 "cells": [
  {
   "cell_type": "markdown",
   "id": "773545b9",
   "metadata": {},
   "source": [
    "# 流程 \n",
    "加载预训练模型"
   ]
  },
  {
   "cell_type": "markdown",
   "id": "82ee1a22",
   "metadata": {},
   "source": [
    "冻结预训练模型中低层卷积的参数（权重）"
   ]
  },
  {
   "cell_type": "markdown",
   "id": "4126bae8",
   "metadata": {},
   "source": [
    "用可训练参数的多层替换分类层\n"
   ]
  },
  {
   "cell_type": "markdown",
   "id": "9d335c8c",
   "metadata": {},
   "source": [
    "在训练集上训练分类层\n"
   ]
  },
  {
   "cell_type": "markdown",
   "id": "9695d2a1",
   "metadata": {},
   "source": [
    "微调参数，根据需要解冻更多层\n"
   ]
  },
  {
   "cell_type": "markdown",
   "id": "218a9478",
   "metadata": {},
   "source": [
    "Res防止网络层数太深，导致后面学到的特征会越来越少"
   ]
  },
  {
   "cell_type": "code",
   "execution_count": 1,
   "id": "cc7cc845",
   "metadata": {},
   "outputs": [],
   "source": [
    "#加载库\n",
    "import numpy as np\n",
    "import torch\n",
    "import torch.nn as nn\n",
    "import torchvision\n",
    "from torchvision import datasets, transforms, models\n",
    "import os\n",
    "from torch.utils.data import DataLoader\n",
    "from torchvision.utils import make_grid\n",
    "import matplotlib.pyplot as plt\n",
    "import time\n",
    "from torch.utils.tensorboard import SummaryWriter\n",
    "import copy\n",
    "from torch.optim import lr_scheduler\n",
    "import torch.optim as optim"
   ]
  },
  {
   "cell_type": "code",
   "execution_count": 2,
   "id": "58fad14b",
   "metadata": {},
   "outputs": [],
   "source": [
    "#OMP: Error #15: Initializing libiomp5md.dll, but found libiomp5md.dll already initialized. 报错的解决方法\n",
    "os.environ['KMP_DUPLICATE_LIB_OK']='True'\n",
    "#os.environ[\"CUDA_VISIBLE_DEVICES\"] = \"0\""
   ]
  },
  {
   "cell_type": "code",
   "execution_count": 3,
   "id": "a94ce4f9",
   "metadata": {},
   "outputs": [],
   "source": [
    "#定义一个方法，显示图片\n",
    "def image_show(inp, title=None):\n",
    "    inp = inp.numpy().transpose(1,2,0)\n",
    "    mean = np.array([0.485,0.456,0.486])\n",
    "    std = np.array([0.229,0.224,0.225])\n",
    "    inp = std * inp + mean\n",
    "    inp = np.clip(inp,0,1)\n",
    "    plt.imshow(inp)\n",
    "    if title is not None:\n",
    "        plt.title(title)\n",
    "    plt.pause(0.001)"
   ]
  },
  {
   "cell_type": "code",
   "execution_count": 4,
   "id": "c81e5df6",
   "metadata": {},
   "outputs": [],
   "source": [
    "#更改池化层\n",
    "class AdaptiveConcatPool2d(nn.Module):\n",
    "    def __init__(self,size=None):\n",
    "        super().__init__()\n",
    "        size = (3,3) #池化层的卷积和大小，默认为（1,1）\n",
    "        self.pool_one = nn.AdaptiveAvgPool2d(size)  \n",
    "        #https://pytorch.org/docs/stable/generated/torch.nn.AdaptiveAvgPool2d.html?highlight=adaptiveavgpool2d#torch.nn.AdaptiveAvgPool2d\n",
    "        self.pool_two = nn.AdaptiveAvgPool2d(size)\n",
    "    \n",
    "    def forward(self,x):\n",
    "        return torch.cat((self.pool_one(x),self.pool_two(x)),1) #连接池化层"
   ]
  },
  {
   "cell_type": "code",
   "execution_count": 5,
   "id": "ed745345",
   "metadata": {},
   "outputs": [],
   "source": [
    "#定义函数，获取Tensirboard的write\n",
    "def tb_writer():\n",
    "    timestr = time.strftime(\"%Y%m%d_%H%M%S\")\n",
    "    writer = SummaryWriter('logdir/'+timestr)\n",
    "    return writer"
   ]
  },
  {
   "cell_type": "code",
   "execution_count": 6,
   "id": "c465ac6c",
   "metadata": {},
   "outputs": [],
   "source": [
    "#迁移学习，拿到一个成熟的模型进行模型微调\n",
    "def get_model():\n",
    "    model_pre = models.resnet50(pretrained=True) \n",
    "    #冻结预训练模型中所有的参数\n",
    "    for param in model_pre.parameters():\n",
    "        param.requires_grad = False \n",
    "    #微调模型：替换Reset最后的两层网络\n",
    "    model_pre.avgppol = AdaptiveConcatPool2d() #池化层替换\n",
    "    model_pre.fc = nn.Sequential(\n",
    "        nn.Flatten(), #所有维度拉平\n",
    "        nn.BatchNorm1d(2048), #   https://pytorch.org/docs/stable/generated/torch.nn.BatchNorm1d.html\n",
    "        nn.Dropout(0.5),#丢掉一些神经元\n",
    "        nn.Linear(2048, 512), #线性层的处理\n",
    "        nn.ReLU(),#激活层\n",
    "        nn.BatchNorm1d(512), #正则化处理\n",
    "        nn.Linear(512,2),\n",
    "        nn.LogSigmoid(),#损失函数\n",
    "    )\n",
    "    return model_pre"
   ]
  },
  {
   "cell_type": "code",
   "execution_count": 7,
   "id": "38e21ec3",
   "metadata": {},
   "outputs": [],
   "source": [
    "#定义训练函数\n",
    "def train(model,device,train_loader,criterion,optimizer,epoch,writer):\n",
    "    model.train()\n",
    "    total_loss = 0.0 #总损失值初始化为0\n",
    "    #循环读取训练数据集，更新模型参数\n",
    "    for batch_id, (data,target) in enumerate(train_loader):\n",
    "        data, target = data.to(device),target.to(device)\n",
    "        optimizer.zero_grad() #梯度初始化为0\n",
    "        output = model(data) #训练后的输出\n",
    "        loss = criterion(output, target) #计算损失\n",
    "        loss.backward() #反向传播\n",
    "        optimizer.step() #更新参数\n",
    "        total_loss += loss.item()\n",
    "    writer.add_scalar(\"Train_loss\",total_loss/len(train_loader),epoch)\n",
    "    writer.flush()#刷新\n",
    "    return total_loss/len(train_loader) #返回平均值"
   ]
  },
  {
   "cell_type": "code",
   "execution_count": 8,
   "id": "f8d578df",
   "metadata": {},
   "outputs": [],
   "source": [
    "#定义测试函数\n",
    "def test(model,device,test_loader,criterion,optimizer,epoch,writer):\n",
    "    #声明在训练模型的时候，不采用batch Normalization 和Dropout\n",
    "    model.eval()\n",
    "    #损失值和正确率\n",
    "    correct = 0.0\n",
    "    total_loss = 0.0 #总损失值初始化为0\n",
    "    #循环读取数据\n",
    "    with torch.no_grad():\n",
    "        for data,target in test_loader:\n",
    "            data, target = data.to(device), target.to(device)\n",
    "        #预测输出\n",
    "            output = model(data)\n",
    "        #计算损失\n",
    "            total_loss += criterion(output,target).item()\n",
    "        #获取预测结果中每行数据概率最大的下标\n",
    "            _,pred = torch.max(output,dim=1)\n",
    "        #累计预测正确的个数\n",
    "            correct += torch.sum(pred == target.data)\n",
    "\n",
    "        \n",
    "    #平均损失\n",
    "    total_loss /= len(test_loader.dataset)\n",
    "    #正确率\n",
    "    accuracy = correct/len(test_loader.dataset)\n",
    "    #写入日志\n",
    "    writer.add_scalar('Test Loss',total_loss,epoch)\n",
    "    writer.add_scalar('Accuracy',accuracy,epoch)\n",
    "    #刷新\n",
    "    writer.flush()\n",
    "    #输出环境\n",
    "    print(\"Test Loss: {:.4f},Accuracy: {:.4f}\".format(total_loss,accuracy))\n",
    "    return total_loss, accuracy"
   ]
  },
  {
   "cell_type": "code",
   "execution_count": 9,
   "id": "e2ba08ea",
   "metadata": {},
   "outputs": [],
   "source": [
    "def train_epochs(model,device,dataloaders,criterion,optimizer,num_epochs,writer):\n",
    "    '''\n",
    "    Rerturns：\n",
    "        返回一个训练后的最好的模型\n",
    "    '''\n",
    "    print(\"{0:>20}|{1:>20}|{2:>20}|{3:>20}|\".format('Epoch0','Training Loss','Test Loss','Accuracy'))\n",
    "    best_score = np.inf #假设最好的预测值\n",
    "    start = time.time() #开始时间\n",
    "    \n",
    "    #开始循环读取数据进行训练和验证\n",
    "    for epoch in num_epochs:\n",
    "        train_loss = train(model,device,dataloaders['train'],criterion,optimizer,epoch,writer)\n",
    "        test_loss,accuracy = test(model,device,dataloaders['val'],criterion,optimizer,epoch,writer)\n",
    "        \n",
    "        if test_loss < best_score:\n",
    "            best_score = test_loss\n",
    "            torch.save(model.state_dict(),model_path)#保存模型\n",
    "            #state_dict变量存放训练过程中需要学的的权重和偏置系统\n",
    "        print(\"{0:>20}|{1:>20}|{2:>20}|{3:>20}|\".format(epoch,train_loss,test_loss,accuracy))\n",
    "            \n",
    "        writer.flush()\n",
    "        \n",
    "    #训练完耗费的时间\n",
    "    time_all = time.time() - start\n",
    "    #输出时间信息\n",
    "    print(\"Training complete in {:.2f}m {:.2f}s\".format(time_all // 60, time_all % 60)"
   ]
  },
  {
   "cell_type": "code",
   "execution_count": 10,
   "id": "52ffacf2",
   "metadata": {},
   "outputs": [],
   "source": [
    "#图片转换\n",
    "date_transforms = {\n",
    "    'train':\n",
    "        transforms.Compose([\n",
    "            transforms.RandomResizedCrop(300),\n",
    "            transforms.RandomHorizontalFlip(),\n",
    "            transforms.CenterCrop(256),\n",
    "            transforms.ToTensor(),\n",
    "            transforms.Normalize([0.485,0.456,0.486],\n",
    "                                 [0.229,0.224,0.225]) \n",
    "        ]),\n",
    " \n",
    "    'val': \n",
    "        transforms.Compose([\n",
    "            transforms.Resize(300),\n",
    "            transforms.CenterCrop(256), \n",
    "            transforms.ToTensor(),\n",
    "            transforms.Normalize([0.485,0.456,0.486],\n",
    "                                     [0.229,0.224,0.225])\n",
    "            ]),\n",
    "    'test':\n",
    "        transforms.Compose([\n",
    "            transforms.Resize(size=300),\n",
    "            transforms.RandomResizedCrop(size=256),\n",
    "            transforms.CenterCrop(256),\n",
    "            transforms.ToTensor(),\n",
    "            transforms.Normalize([0.485,0.456,0.486],\n",
    "                                 [0.229,0.224,0.225])\n",
    "        ]),\n",
    "\n",
    "}\n",
    "\n",
    "    "
   ]
  },
  {
   "cell_type": "code",
   "execution_count": 11,
   "id": "52f76d23",
   "metadata": {
    "scrolled": false
   },
   "outputs": [
    {
     "name": "stdout",
     "output_type": "stream",
     "text": [
      "--------------------------------------------------\n"
     ]
    },
    {
     "data": {
      "image/png": "[encoded data removed]",
      "text/plain": [
       "<Figure size 432x288 with 1 Axes>"
      ]
     },
     "metadata": {
      "needs_background": "light"
     },
     "output_type": "display_data"
    },
    {
     "name": "stdout",
     "output_type": "stream",
     "text": [
      "              Epoch0|       Training Loss|           Test Loss|            Accuracy|\n"
     ]
    },
    {
     "name": "stderr",
     "output_type": "stream",
     "text": [
      "C:\\Users\\user\\anaconda3\\lib\\site-packages\\torch\\nn\\functional.py:718: UserWarning: Named tensors and all their associated APIs are an experimental feature and subject to change. Please do not use them for anything important until they are released as stable. (Triggered internally at  ..\\c10/core/TensorImpl.h:1156.)\n",
      "  return torch.max_pool2d(input, kernel_size, stride, padding, dilation, ceil_mode)\n"
     ]
    },
    {
     "name": "stdout",
     "output_type": "stream",
     "text": [
      "Test Loss: 0.0004,Accuracy: 0.7500\n",
      "                   0| 0.19113559963930102|0.0003724894195329398|                0.75|\n",
      "Test Loss: 0.0000,Accuracy: 0.8125\n",
      "                   1|0.010769508706557171|3.533479684847407e-05|              0.8125|\n",
      "Test Loss: 0.0000,Accuracy: 0.8125\n",
      "                   2|0.0019901189895952407|1.836517003539484e-05|              0.8125|\n",
      "Test Loss: 0.0000,Accuracy: 0.7500\n",
      "                   3|0.0014552699025767496|2.2204099877853878e-05|                0.75|\n",
      "Test Loss: 0.0000,Accuracy: 0.8125\n",
      "                   4|0.0007345397263042918|9.412833605892956e-06|              0.8125|\n",
      "Test Loss: 0.0000,Accuracy: 0.8125\n",
      "                   5|0.00029568315460507335|3.9458254832425155e-06|              0.8125|\n",
      "Training complete in {:.2f}m {:.2f}s\n"
     ]
    },
    {
     "ename": "AttributeError",
     "evalue": "'NoneType' object has no attribute 'format'",
     "output_type": "error",
     "traceback": [
      "\u001b[1;31m---------------------------------------------------------------------------\u001b[0m",
      "\u001b[1;31mAttributeError\u001b[0m                            Traceback (most recent call last)",
      "\u001b[1;32m<ipython-input-11-ab74aed376a3>\u001b[0m in \u001b[0;36m<module>\u001b[1;34m\u001b[0m\n\u001b[0;32m     44\u001b[0m \u001b[0mcriterion\u001b[0m \u001b[1;33m=\u001b[0m \u001b[0mnn\u001b[0m\u001b[1;33m.\u001b[0m\u001b[0mNLLLoss\u001b[0m\u001b[1;33m(\u001b[0m\u001b[1;33m)\u001b[0m\u001b[1;31m#损失函数\u001b[0m\u001b[1;33m\u001b[0m\u001b[1;33m\u001b[0m\u001b[0m\n\u001b[0;32m     45\u001b[0m \u001b[0moptimizer\u001b[0m \u001b[1;33m=\u001b[0m \u001b[0moptim\u001b[0m\u001b[1;33m.\u001b[0m\u001b[0mAdam\u001b[0m\u001b[1;33m(\u001b[0m\u001b[0mmodel\u001b[0m\u001b[1;33m.\u001b[0m\u001b[0mparameters\u001b[0m\u001b[1;33m(\u001b[0m\u001b[1;33m)\u001b[0m\u001b[1;33m)\u001b[0m\u001b[1;33m\u001b[0m\u001b[1;33m\u001b[0m\u001b[0m\n\u001b[1;32m---> 46\u001b[1;33m \u001b[0mtrain_epochs\u001b[0m\u001b[1;33m(\u001b[0m\u001b[0mmodel\u001b[0m\u001b[1;33m,\u001b[0m\u001b[0mdevice\u001b[0m\u001b[1;33m,\u001b[0m\u001b[0mdataloaders\u001b[0m\u001b[1;33m,\u001b[0m\u001b[0mcriterion\u001b[0m\u001b[1;33m,\u001b[0m\u001b[0moptimizer\u001b[0m\u001b[1;33m,\u001b[0m\u001b[0mrange\u001b[0m\u001b[1;33m(\u001b[0m\u001b[1;36m0\u001b[0m\u001b[1;33m,\u001b[0m\u001b[1;36m6\u001b[0m\u001b[1;33m)\u001b[0m\u001b[1;33m,\u001b[0m\u001b[0mwriter\u001b[0m\u001b[1;33m)\u001b[0m\u001b[1;33m\u001b[0m\u001b[1;33m\u001b[0m\u001b[0m\n\u001b[0m\u001b[0;32m     47\u001b[0m \u001b[0mwriter\u001b[0m\u001b[1;33m.\u001b[0m\u001b[0mclose\u001b[0m\u001b[1;33m(\u001b[0m\u001b[1;33m)\u001b[0m\u001b[1;33m\u001b[0m\u001b[1;33m\u001b[0m\u001b[0m\n",
      "\u001b[1;32m<ipython-input-9-e2aaaa9f7532>\u001b[0m in \u001b[0;36mtrain_epochs\u001b[1;34m(model, device, dataloaders, criterion, optimizer, num_epochs, writer)\u001b[0m\n\u001b[0;32m     24\u001b[0m     \u001b[0mtime_all\u001b[0m \u001b[1;33m=\u001b[0m \u001b[0mtime\u001b[0m\u001b[1;33m.\u001b[0m\u001b[0mtime\u001b[0m\u001b[1;33m(\u001b[0m\u001b[1;33m)\u001b[0m \u001b[1;33m-\u001b[0m \u001b[0mstart\u001b[0m\u001b[1;33m\u001b[0m\u001b[1;33m\u001b[0m\u001b[0m\n\u001b[0;32m     25\u001b[0m     \u001b[1;31m#输出时间信息\u001b[0m\u001b[1;33m\u001b[0m\u001b[1;33m\u001b[0m\u001b[1;33m\u001b[0m\u001b[0m\n\u001b[1;32m---> 26\u001b[1;33m     \u001b[0mprint\u001b[0m\u001b[1;33m(\u001b[0m\u001b[1;34m\"Training complete in {:.2f}m {:.2f}s\"\u001b[0m\u001b[1;33m)\u001b[0m\u001b[1;33m.\u001b[0m\u001b[0mformat\u001b[0m\u001b[1;33m(\u001b[0m\u001b[0mtime_all\u001b[0m \u001b[1;33m//\u001b[0m \u001b[1;36m60\u001b[0m\u001b[1;33m,\u001b[0m \u001b[0mtime_all\u001b[0m \u001b[1;33m%\u001b[0m \u001b[1;36m60\u001b[0m\u001b[1;33m)\u001b[0m\u001b[1;33m\u001b[0m\u001b[1;33m\u001b[0m\u001b[0m\n\u001b[0m",
      "\u001b[1;31mAttributeError\u001b[0m: 'NoneType' object has no attribute 'format'"
     ]
    }
   ],
   "source": [
    "#操作数据集\n",
    "#定义超参数\n",
    "model_path = 'model.pth'\n",
    "batch_size = 16\n",
    "device = torch.device(\"cpu\")\n",
    "\n",
    "#加载数据集\n",
    "data_path = r\"C:\\Users\\user\\DL\\Torch_study\\chest_xray\"\n",
    "#加载数据集\n",
    "image_datasets = {x : datasets.ImageFolder(os.path.join(data_path,x),\n",
    "                  date_transforms[x]) for x in ['train','val','test'] }\n",
    "#为数据集创建一个迭代器\n",
    "dataloaders = {x : DataLoader(image_datasets[x], shuffle=True, \n",
    "                              batch_size= batch_size) for x in ['train','val','test']}\n",
    "#训练集和验证集的大小\n",
    "data_size =  {x: len(image_datasets[x]) for x in ['train','val','test']}\n",
    "\n",
    "#获取标签的类别\n",
    "class_names = image_datasets['train'].classes #一共有两个，肺炎与正常\n",
    "LABEL = dict((v,k) for k,v in image_datasets['train'].class_to_idx.items())\n",
    "\n",
    "print(\"-\"*50)\n",
    "\n",
    "#显示一个batch_size的图片\n",
    "#读取图片\n",
    "datas, targets = next(iter(dataloaders['train']))\n",
    "#将若干张图片拼成一幅图像\n",
    "out = torchvision.utils.make_grid(datas)\n",
    "#显示图片\n",
    "image_show(out,title=[class_names[x] for x in targets])\n",
    "#将tensor转化为image\n",
    "inv_normalize = transforms.Normalize(\n",
    "mean = [-0.485/0.229,-0.456/0.224,-0.406/0.225],\n",
    "std = [1/0.229,1/0.224,1/0.225]\n",
    ")\n",
    "\n",
    "writer = tb_writer()\n",
    "images, labels = next(iter(dataloaders['train']))#获取一批数据\n",
    "grid = torchvision.utils.make_grid([inv_normalize(image) for image in images[:32]])#获取32张图片\n",
    "writer.add_image('X-Ray grid', grid,0) #添加到TensorBoard\n",
    "writer.flush() #将数据读取到储存器\n",
    "\n",
    "model = get_model().to(device)#获取模型\n",
    "criterion = nn.NLLLoss()#损失函数\n",
    "optimizer = optim.Adam(model.parameters())\n",
    "train_epochs(model,device,dataloaders,criterion,optimizer,range(0,6),writer)\n",
    "writer.close()"
   ]
  },
  {
   "cell_type": "code",
   "execution_count": null,
   "id": "25e70d9b",
   "metadata": {},
   "outputs": [],
   "source": []
  },
  {
   "cell_type": "code",
   "execution_count": null,
   "id": "7fabce95",
   "metadata": {},
   "outputs": [],
   "source": []
  }
 ],
 "metadata": {
  "kernelspec": {
   "display_name": "Python 3",
   "language": "python",
   "name": "python3"
  },
  "language_info": {
   "codemirror_mode": {
    "name": "ipython",
    "version": 3
   },
   "file_extension": ".py",
   "mimetype": "text/x-python",
   "name": "python",
   "nbconvert_exporter": "python",
   "pygments_lexer": "ipython3",
   "version": "3.8.8"
  }
 },
 "nbformat": 4,
 "nbformat_minor": 5
}
