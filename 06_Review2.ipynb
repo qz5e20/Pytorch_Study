{
 "cells": [
  {
   "cell_type": "code",
   "execution_count": 1,
   "id": "8ed2f260",
   "metadata": {},
   "outputs": [],
   "source": [
    "import torch\n",
    "import pandas as pd\n",
    "import numpy as np"
   ]
  },
  {
   "cell_type": "code",
   "execution_count": 2,
   "id": "f32e3bfb",
   "metadata": {},
   "outputs": [
    {
     "data": {
      "text/plain": [
       "tensor(4.5000)"
      ]
     },
     "execution_count": 2,
     "metadata": {},
     "output_type": "execute_result"
    }
   ],
   "source": [
    "#mean\n",
    "a = torch.tensor([3,4,5,6],dtype=torch.float)\n",
    "torch.mean(a)"
   ]
  },
  {
   "cell_type": "code",
   "execution_count": 3,
   "id": "99116860",
   "metadata": {},
   "outputs": [
    {
     "data": {
      "text/plain": [
       "tensor(18.)"
      ]
     },
     "execution_count": 3,
     "metadata": {},
     "output_type": "execute_result"
    }
   ],
   "source": [
    "#sum\n",
    "torch.sum(a)"
   ]
  },
  {
   "cell_type": "code",
   "execution_count": 4,
   "id": "5104b582",
   "metadata": {},
   "outputs": [
    {
     "data": {
      "text/plain": [
       "tensor(360.)"
      ]
     },
     "execution_count": 4,
     "metadata": {},
     "output_type": "execute_result"
    }
   ],
   "source": [
    "#计算所有元素的积\n",
    "torch.prod(a)"
   ]
  },
  {
   "cell_type": "code",
   "execution_count": 5,
   "id": "131388a5",
   "metadata": {},
   "outputs": [
    {
     "data": {
      "text/plain": [
       "tensor(6.)"
      ]
     },
     "execution_count": 5,
     "metadata": {},
     "output_type": "execute_result"
    }
   ],
   "source": [
    "#max\n",
    "torch.max(a)"
   ]
  },
  {
   "cell_type": "code",
   "execution_count": 6,
   "id": "9c5b69f4",
   "metadata": {},
   "outputs": [
    {
     "data": {
      "text/plain": [
       "tensor(3.)"
      ]
     },
     "execution_count": 6,
     "metadata": {},
     "output_type": "execute_result"
    }
   ],
   "source": [
    "#min\n",
    "torch.min(a)"
   ]
  },
  {
   "cell_type": "code",
   "execution_count": 7,
   "id": "729a0773",
   "metadata": {},
   "outputs": [
    {
     "data": {
      "text/plain": [
       "tensor(3)"
      ]
     },
     "execution_count": 7,
     "metadata": {},
     "output_type": "execute_result"
    }
   ],
   "source": [
    "#最大最小值下标\n",
    "torch.argmax(a)"
   ]
  },
  {
   "cell_type": "code",
   "execution_count": 8,
   "id": "a5475cf1",
   "metadata": {},
   "outputs": [
    {
     "data": {
      "text/plain": [
       "tensor(0)"
      ]
     },
     "execution_count": 8,
     "metadata": {},
     "output_type": "execute_result"
    }
   ],
   "source": [
    "torch.argmin(a)"
   ]
  },
  {
   "cell_type": "code",
   "execution_count": 9,
   "id": "7b89ac73",
   "metadata": {},
   "outputs": [
    {
     "data": {
      "text/plain": [
       "tensor(1.2910)"
      ]
     },
     "execution_count": 9,
     "metadata": {},
     "output_type": "execute_result"
    }
   ],
   "source": [
    "#标准差\n",
    "torch.std(a)"
   ]
  },
  {
   "cell_type": "code",
   "execution_count": 10,
   "id": "a5fdc7d9",
   "metadata": {},
   "outputs": [
    {
     "data": {
      "text/plain": [
       "tensor(1.6667)"
      ]
     },
     "execution_count": 10,
     "metadata": {},
     "output_type": "execute_result"
    }
   ],
   "source": [
    "#方差\n",
    "torch.var(a)"
   ]
  },
  {
   "cell_type": "code",
   "execution_count": 11,
   "id": "1bb12f4c",
   "metadata": {},
   "outputs": [
    {
     "data": {
      "text/plain": [
       "tensor(4.)"
      ]
     },
     "execution_count": 11,
     "metadata": {},
     "output_type": "execute_result"
    }
   ],
   "source": [
    "#中位数\n",
    "torch.median(a)"
   ]
  },
  {
   "cell_type": "code",
   "execution_count": 12,
   "id": "bebcedd1",
   "metadata": {},
   "outputs": [
    {
     "data": {
      "text/plain": [
       "torch.return_types.mode(\n",
       "values=tensor(3.),\n",
       "indices=tensor(0))"
      ]
     },
     "execution_count": 12,
     "metadata": {},
     "output_type": "execute_result"
    }
   ],
   "source": [
    "#众数\n",
    "torch.mode(a)"
   ]
  },
  {
   "cell_type": "code",
   "execution_count": 13,
   "id": "fcb3d2ef",
   "metadata": {},
   "outputs": [
    {
     "data": {
      "text/plain": [
       "tensor([1., 0., 0., 0., 0., 0., 0., 0., 0., 0., 0., 0., 0., 0., 0., 0., 0., 0.,\n",
       "        0., 0., 0., 0., 0., 0., 0., 0., 0., 0., 0., 0., 0., 0., 0., 1., 0., 0.,\n",
       "        0., 0., 0., 0., 0., 0., 0., 0., 0., 0., 0., 0., 0., 0., 0., 0., 0., 0.,\n",
       "        0., 0., 0., 0., 0., 0., 0., 0., 0., 0., 0., 0., 1., 0., 0., 0., 0., 0.,\n",
       "        0., 0., 0., 0., 0., 0., 0., 0., 0., 0., 0., 0., 0., 0., 0., 0., 0., 0.,\n",
       "        0., 0., 0., 0., 0., 0., 0., 0., 0., 1.])"
      ]
     },
     "execution_count": 13,
     "metadata": {},
     "output_type": "execute_result"
    }
   ],
   "source": [
    "#直方图\n",
    "torch.histc(a)"
   ]
  },
  {
   "cell_type": "code",
   "execution_count": 14,
   "id": "75b9224b",
   "metadata": {},
   "outputs": [
    {
     "data": {
      "text/plain": [
       "<torch._C.Generator at 0x1e374ef1fd0>"
      ]
     },
     "execution_count": 14,
     "metadata": {},
     "output_type": "execute_result"
    }
   ],
   "source": [
    "#定义随机种子\n",
    "torch.manual_seed(222)"
   ]
  },
  {
   "cell_type": "code",
   "execution_count": 15,
   "id": "bd673125",
   "metadata": {},
   "outputs": [
    {
     "data": {
      "text/plain": [
       "tensor([1., 2., 3., 4., 5., 6.])"
      ]
     },
     "execution_count": 15,
     "metadata": {},
     "output_type": "execute_result"
    }
   ],
   "source": [
    "#组合。拼接\n",
    "a1 = torch.tensor([1,2,3],dtype=torch.float)\n",
    "a2 = torch.tensor([4,5,6],dtype=torch.float)\n",
    "\n",
    "torch.cat([a1,a2],dim=0) #横向"
   ]
  },
  {
   "cell_type": "code",
   "execution_count": 16,
   "id": "fe689004",
   "metadata": {},
   "outputs": [
    {
     "data": {
      "text/plain": [
       "tensor([[1., 2., 3.],\n",
       "        [4., 5., 6.]])"
      ]
     },
     "execution_count": 16,
     "metadata": {},
     "output_type": "execute_result"
    }
   ],
   "source": [
    "torch.stack([a1,a2],dim=0) #纵向"
   ]
  },
  {
   "cell_type": "code",
   "execution_count": 17,
   "id": "1d804b26",
   "metadata": {},
   "outputs": [
    {
     "data": {
      "text/plain": [
       "(tensor([2, 2, 2]), tensor([0, 1, 2]))"
      ]
     },
     "execution_count": 17,
     "metadata": {},
     "output_type": "execute_result"
    }
   ],
   "source": [
    "#按照条件从x，y中选出满足条件的元素\n",
    "x = torch.tensor([\n",
    "    [1,2,3],\n",
    "    [4,5,6],\n",
    "    [7,8,9]\n",
    "])\n",
    "y = torch.tensor([11,22,33,44,55,66])\n",
    "torch.where(x>6) #输出对应的索引值 "
   ]
  },
  {
   "cell_type": "code",
   "execution_count": 18,
   "id": "caee09ab",
   "metadata": {},
   "outputs": [
    {
     "name": "stdout",
     "output_type": "stream",
     "text": [
      "tensor([[1., 2.],\n",
      "        [6., 4.]])\n",
      "tensor([[1., 2., 2.],\n",
      "        [4., 4., 4.]])\n"
     ]
    }
   ],
   "source": [
    "#在指定维度上按照索引值输出tensor\n",
    "b = torch.Tensor([[1,2,3],[4,5,6]])\n",
    "index_1 = torch.LongTensor([[0,1],[2,0]])\n",
    "index_2 = torch.LongTensor([[0,1,1],[0,0,0]])\n",
    "\n",
    "print(torch.gather(b,dim=1,index=index_1)) \n",
    "print(torch.gather(b,dim=1,index=index_2)) "
   ]
  },
  {
   "cell_type": "code",
   "execution_count": 19,
   "id": "674d19d7",
   "metadata": {},
   "outputs": [
    {
     "name": "stdout",
     "output_type": "stream",
     "text": [
      "tensor([[ 1.,  2.,  3.,  4.],\n",
      "        [ 5.,  6.,  7.,  8.],\n",
      "        [ 9., 10., 11., 12.]])\n"
     ]
    }
   ],
   "source": [
    "#按照指定索引输出tensor\n",
    "a = torch.linspace(1,12,steps=12).view(3,4)\n",
    "print(a)"
   ]
  },
  {
   "cell_type": "code",
   "execution_count": 20,
   "id": "66a08309",
   "metadata": {},
   "outputs": [
    {
     "name": "stdout",
     "output_type": "stream",
     "text": [
      "tensor([[ 1.,  2.,  3.,  4.],\n",
      "        [ 9., 10., 11., 12.]])\n"
     ]
    }
   ],
   "source": [
    "b = torch.index_select(a,0,torch.tensor([0,2]))\n",
    "print(b)\n"
   ]
  },
  {
   "cell_type": "code",
   "execution_count": 21,
   "id": "db055ea5",
   "metadata": {},
   "outputs": [
    {
     "name": "stdout",
     "output_type": "stream",
     "text": [
      "tensor([[ 1.,  3.],\n",
      "        [ 5.,  7.],\n",
      "        [ 9., 11.]])\n"
     ]
    }
   ],
   "source": [
    "c = torch.index_select(a,1,torch.tensor([0,2]))\n",
    "print(c)"
   ]
  },
  {
   "cell_type": "code",
   "execution_count": 22,
   "id": "58eefcdd",
   "metadata": {},
   "outputs": [
    {
     "name": "stdout",
     "output_type": "stream",
     "text": [
      "tensor([1., 2.])\n",
      "torch.FloatTensor\n",
      "tensor([3, 4])\n",
      "torch.LongTensor\n"
     ]
    }
   ],
   "source": [
    "#Tensor与tensor的区别\n",
    "a = torch.Tensor([1,2]) #用的是类，默认float\n",
    "print(a)\n",
    "print(a.type())\n",
    "b = torch.tensor([3,4]) #用的函数,默认int类型\n",
    "print(b)\n",
    "print(b.type())\n",
    "#大写的Tensor必须要输入向量，不能是标量"
   ]
  },
  {
   "cell_type": "code",
   "execution_count": 23,
   "id": "7edf3ae3",
   "metadata": {},
   "outputs": [
    {
     "data": {
      "text/plain": [
       "tensor([[False, False, False],\n",
       "        [False,  True,  True],\n",
       "        [ True,  True,  True]])"
      ]
     },
     "execution_count": 23,
     "metadata": {},
     "output_type": "execute_result"
    }
   ],
   "source": [
    "#按照mask输出tensor，输出为向量\n",
    "\n",
    "x = torch.tensor([\n",
    "    [1,2,3],\n",
    "    [4,5,6],\n",
    "    [7,8,9]\n",
    "])\n",
    "mask = x.ge(5) #x>5 的为True\n",
    "mask"
   ]
  },
  {
   "cell_type": "code",
   "execution_count": 24,
   "id": "75f42f27",
   "metadata": {},
   "outputs": [
    {
     "data": {
      "text/plain": [
       "tensor([5, 6, 7, 8, 9])"
      ]
     },
     "execution_count": 24,
     "metadata": {},
     "output_type": "execute_result"
    }
   ],
   "source": [
    "torch.masked_select(x,mask)"
   ]
  },
  {
   "cell_type": "code",
   "execution_count": 25,
   "id": "d210ff16",
   "metadata": {},
   "outputs": [
    {
     "data": {
      "text/plain": [
       "tensor([4, 5, 8])"
      ]
     },
     "execution_count": 25,
     "metadata": {},
     "output_type": "execute_result"
    }
   ],
   "source": [
    "#将输入看成ID-tensor，按照索引得到输出tensor\n",
    "src = torch.tensor([[4,3,5],\n",
    "                  [6,7,8]])\n",
    "torch.take(src,torch.tensor([0,2,5]))"
   ]
  },
  {
   "cell_type": "code",
   "execution_count": 26,
   "id": "2c68a2ee",
   "metadata": {},
   "outputs": [
    {
     "name": "stdout",
     "output_type": "stream",
     "text": [
      "tensor([[ 1.,  2.,  3.],\n",
      "        [ 4.,  5.,  6.],\n",
      "        [ 7.,  8.,  9.],\n",
      "        [10., 11., 12.]])\n",
      "(tensor([[1., 2., 3.]]), tensor([[4., 5., 6.]]), tensor([[7., 8., 9.]]), tensor([[10., 11., 12.]]))\n"
     ]
    }
   ],
   "source": [
    "#按照某个维度平均分块\n",
    "a = torch.Tensor([[1,2,3]])\n",
    "b = torch.Tensor([[4,5,6],\n",
    "                 [7,8,9],\n",
    "                 [10,11,12]])\n",
    "c = torch.cat([a,b],dim=0)\n",
    "print(c)\n",
    "d = torch.chunk(c,4,dim=0)\n",
    "print(d)"
   ]
  },
  {
   "cell_type": "code",
   "execution_count": 27,
   "id": "a19a9649",
   "metadata": {},
   "outputs": [
    {
     "name": "stdout",
     "output_type": "stream",
     "text": [
      "(tensor([[1., 2., 3.],\n",
      "        [4., 5., 6.]]), tensor([[ 7.,  8.,  9.],\n",
      "        [10., 11., 12.]]))\n",
      "(tensor([[1., 2., 3.]]), tensor([[4., 5., 6.],\n",
      "        [7., 8., 9.]]), tensor([[10., 11., 12.]]))\n"
     ]
    }
   ],
   "source": [
    "#按照某个维度依照第二个参数给出的list或者int进行分割tensor\n",
    "#第二个参数有两种形式\n",
    "#一种分割份数，和chunk差不多\n",
    "#第二种是分割方案，是一个list，待分割张量将会分割为len(list)份，每一份大小取决于list中的元素\n",
    "e = torch.split(c,2,dim=0)\n",
    "print(e)\n",
    "f = torch.split(c,[1,2,1],dim=0)\n",
    "print(f)"
   ]
  },
  {
   "cell_type": "code",
   "execution_count": 28,
   "id": "1808cf06",
   "metadata": {},
   "outputs": [
    {
     "name": "stdout",
     "output_type": "stream",
     "text": [
      "tensor([[1, 2],\n",
      "        [3, 4],\n",
      "        [5, 6]])\n"
     ]
    }
   ],
   "source": [
    "#reshape\n",
    "a = torch.tensor([[1,2,3],\n",
    "                 [4,5,6]])\n",
    "b = torch.reshape(a,(3,2))\n",
    "print(b)"
   ]
  },
  {
   "cell_type": "code",
   "execution_count": 29,
   "id": "6675f537",
   "metadata": {},
   "outputs": [
    {
     "name": "stdout",
     "output_type": "stream",
     "text": [
      "tensor([[1, 4],\n",
      "        [2, 5],\n",
      "        [3, 6]])\n"
     ]
    }
   ],
   "source": [
    "#只针对2d的转置\n",
    "a = torch.tensor([[1,2,3],\n",
    "                 [4,5,6]])\n",
    "b = torch.t(a)\n",
    "print(b)"
   ]
  },
  {
   "cell_type": "code",
   "execution_count": 30,
   "id": "177e7d6c",
   "metadata": {},
   "outputs": [
    {
     "data": {
      "text/plain": [
       "tensor([[1, 4],\n",
       "        [2, 5],\n",
       "        [3, 6]])"
      ]
     },
     "execution_count": 30,
     "metadata": {},
     "output_type": "execute_result"
    }
   ],
   "source": [
    "#交换两个维度 transpose(input,dim0,dim1)\n",
    "a = torch.tensor([[1,2,3],\n",
    "                 [4,5,6]])\n",
    "torch.transpose(a,1,0)"
   ]
  },
  {
   "cell_type": "code",
   "execution_count": 31,
   "id": "3df9c609",
   "metadata": {},
   "outputs": [
    {
     "data": {
      "text/plain": [
       "tensor([1, 1])"
      ]
     },
     "execution_count": 31,
     "metadata": {},
     "output_type": "execute_result"
    }
   ],
   "source": [
    "#对数据维度进行压缩，去掉维数为1的维度\n",
    "a = torch.tensor([[1],[1]])\n",
    "torch.squeeze(a)"
   ]
  },
  {
   "cell_type": "code",
   "execution_count": 32,
   "id": "1cb76898",
   "metadata": {},
   "outputs": [
    {
     "data": {
      "text/plain": [
       "tensor([[1],\n",
       "        [2],\n",
       "        [3],\n",
       "        [4]])"
      ]
     },
     "execution_count": 32,
     "metadata": {},
     "output_type": "execute_result"
    }
   ],
   "source": [
    "#对数据维度进行扩充。给指定位置加上维数为1的维度\n",
    "a = torch.tensor([1,2,3,4])\n",
    "torch.unsqueeze(a,1)"
   ]
  },
  {
   "cell_type": "code",
   "execution_count": 33,
   "id": "30ffca88",
   "metadata": {},
   "outputs": [
    {
     "name": "stdout",
     "output_type": "stream",
     "text": [
      "(tensor([1, 2, 3]), tensor([4, 5, 6]))\n"
     ]
    }
   ],
   "source": [
    "#去除某个维度\n",
    "a = torch.tensor([[1,2,3],\n",
    "                 [4,5,6]])\n",
    "print(torch.unbind(a,dim=0))"
   ]
  },
  {
   "cell_type": "code",
   "execution_count": 34,
   "id": "decc9ac7",
   "metadata": {},
   "outputs": [
    {
     "data": {
      "text/plain": [
       "tensor([[6, 5, 4],\n",
       "        [3, 2, 1]])"
      ]
     },
     "execution_count": 34,
     "metadata": {},
     "output_type": "execute_result"
    }
   ],
   "source": [
    "#按照给定维度翻转张量\n",
    "a = torch.tensor([[1,2,3],\n",
    "                 [4,5,6]])\n",
    "\n",
    "torch.flip(a,[0,1])"
   ]
  },
  {
   "cell_type": "code",
   "execution_count": 35,
   "id": "795f91d8",
   "metadata": {},
   "outputs": [
    {
     "data": {
      "text/plain": [
       "tensor([[3, 6, 9],\n",
       "        [2, 5, 8],\n",
       "        [1, 4, 7]])"
      ]
     },
     "execution_count": 35,
     "metadata": {},
     "output_type": "execute_result"
    }
   ],
   "source": [
    "#按照指定的维度和旋转次数进行张量旋转\n",
    "a = torch.tensor([[1,2,3],\n",
    "                 [4,5,6],\n",
    "                 [7,8,9]])\n",
    "torch.rot90(a,1,[0,1]) #横轴纵轴都进行了一次翻转"
   ]
  },
  {
   "cell_type": "code",
   "execution_count": null,
   "id": "a5bf4fd6",
   "metadata": {},
   "outputs": [],
   "source": []
  }
 ],
 "metadata": {
  "kernelspec": {
   "display_name": "Python 3",
   "language": "python",
   "name": "python3"
  },
  "language_info": {
   "codemirror_mode": {
    "name": "ipython",
    "version": 3
   },
   "file_extension": ".py",
   "mimetype": "text/x-python",
   "name": "python",
   "nbconvert_exporter": "python",
   "pygments_lexer": "ipython3",
   "version": "3.8.8"
  }
 },
 "nbformat": 4,
 "nbformat_minor": 5
}
