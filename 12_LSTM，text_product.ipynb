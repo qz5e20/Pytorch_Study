{
 "cells": [
  {
   "cell_type": "markdown",
   "id": "32b6c9ce",
   "metadata": {},
   "source": [
    "1.LSTM层的输入 <br/>\n",
    "batchsize:每批多少个序列 <br/>\n",
    "sequence_length:序列长度（步长） <br/>\n",
    "number_features:特征个数 <br/>\n",
    "2.LSTM层的输出 <br/>\n",
    "batchsize:每批多少个序列 <br/>\n",
    "sequence_length:序列长度（步长） <br/>\n",
    "hidden_size:隐藏节点的node数 <br/>\n",
    "3.Linear层的输入 <br/>\n",
    "batches:有多少个batch_size<br/>\n",
    "n_hidden:隐藏层节点的node数<br/>\n",
    "https://pytorch.org/docs/stable/generated/torch.nn.LSTM.html?highlight=lstm#torch.nn.LSTM"
   ]
  },
  {
   "cell_type": "code",
   "execution_count": 1,
   "id": "bd3df08f",
   "metadata": {},
   "outputs": [],
   "source": [
    "import torch\n",
    "from torch import nn,optim\n",
    "import torch.nn.functional as F\n",
    "\n",
    "import numpy as np\n",
    "import pandas as pd\n",
    "import matplotlib.pyplot as plt\n",
    "\n",
    "import seaborn as sns\n",
    "\n",
    "from sklearn.preprocessing import OneHotEncoder, LabelEncoder"
   ]
  },
  {
   "cell_type": "code",
   "execution_count": 2,
   "id": "abd3ec7d",
   "metadata": {},
   "outputs": [],
   "source": [
    "#定义网络\n",
    "class lstm_model(nn.Module):\n",
    "    def __init__(self,vocab,hidden_size,num_layers,dropout=0.5):\n",
    "        super(lstm_model,self).__init__()\n",
    "        self.vocab = vocab #字符数据集\n",
    "        #索引:字符\n",
    "        #self.int_char = dict(enumerate(vocab))\n",
    "        self.int_char = {i:char for i,char in enumerate(vocab)}\n",
    "        #字符：索引\n",
    "        self.char_int = {char:i for i,char in self.int_char.items()}\n",
    "        #对字符进行one-hot encoding\n",
    "        self.encoder = OneHotEncoder(sparse=False).fit(vocab.reshape(-1,1))#对vocab进行shape转换\n",
    "        \n",
    "        self.hidden_size = hidden_size\n",
    "        self.num_layers = num_layers\n",
    "        \n",
    "        #lstm层\n",
    "        self.lstm = nn.LSTM(len(vocab),hidden_size,num_layers,batch_first=True,dropout=dropout)\n",
    "        #全连接层\n",
    "        self.linear = nn.Linear(hidden_size,len(vocab)) #这里输出的shape是每个字符的得分\n",
    "        \n",
    "    def forward(self,sequence,hs=None):\n",
    "        out,hs = self.lstm(sequence,hs) #lstm输出 batch_size,sequence_length ,hidden_size\n",
    "        out = out.reshape(-1,self.hidden_size) #out转化为linear的输入格式,-1是为了让其中的两个输出相乘\n",
    "        output = self.linear(out) #全连接层输出 batch_size*sequence_length,vocab_size\n",
    "        return output,hs\n",
    "    \n",
    "    def onehot_encode(self,data):\n",
    "        return self.encoder.transform(data)\n",
    "    def onehot_decode(self,data):\n",
    "        return self.encoder.inverse_transform(data)\n",
    "    def label_encode(self,data):\n",
    "        return np.array([self.char_int[ch] for ch in data])\n",
    "    def label_decode(self,data):\n",
    "        return np.array([self.int_char[ch] for ch in data])"
   ]
  },
  {
   "cell_type": "code",
   "execution_count": 3,
   "id": "1432c496",
   "metadata": {},
   "outputs": [],
   "source": [
    "#定义构建新数据集的批量处理方法\n",
    "def get_batches(data,batch_size,seq_len):\n",
    "    num_features = data.shape[1]#数据的列数，即特征数\n",
    "    num_chars = batch_size * seq_len #一个batch_size的字符数量\n",
    "    num_batches = int(np.floor(len(data)/num_chars)) #计算出有多少个batches,余数直接舍去\n",
    "    need_chars = num_batches * num_chars  #根据batch_size和batches 计算出所需的总字符数量，舍去余数之后的\n",
    "    \n",
    "    targets = np.append(data[1:],data[0]).reshape(data.shape) #标签数据，标签全往后挪一位\n",
    "    \n",
    "    inputs = data[:need_chars] #从原始数据data1中截取所需的字符数量need_chars\n",
    "    targets = targets[:need_chars] #从原始标签target中截取所需的字符数量need_words\n",
    "    \n",
    "    #shape转换\n",
    "    inputs = inputs.reshape(batch_size,-1,num_features)\n",
    "    targets = targets.reshape(batch_size,-1,num_features)\n",
    "    \n",
    "    #构建新的数据集\n",
    "    for i in range(0,inputs.shape[1],seq_len):\n",
    "        x = inputs[:,i:i+seq_len]\n",
    "        y = targets[:,i:i+seq_len]\n",
    "        yield x,y"
   ]
  },
  {
   "cell_type": "code",
   "execution_count": 4,
   "id": "b6093da3",
   "metadata": {},
   "outputs": [],
   "source": [
    "#定义训练函数\n",
    "def train(model,data,batch_size,seq_len,epochs,lr=0.01,valid=None):\n",
    "    \n",
    "    device = 'cuda' if torch.cuda.is_available() else 'cpu'\n",
    "    model = model.to(device)\n",
    "    optimizer = optim.Adam(model.parameters(),lr=lr)\n",
    "    criterion = nn.CrossEntropyLoss()\n",
    "    if valid is not None:\n",
    "        data = model.onehot_encode(data.reshape(-1,1))\n",
    "        valid = model.onehot_encode(valid.reshape(-1,1))\n",
    "    else:\n",
    "        data = mode.onehot_encode(data.reshape(-1,1))\n",
    "    #保存损失值\n",
    "    train_loss = []\n",
    "    val_loss = []\n",
    "    #循环训练（验证）\n",
    "    for epoch in range(epochs):\n",
    "        model.train()\n",
    "        hs = None\n",
    "        train_ls = 0.0\n",
    "        val_ls = 0.0\n",
    "        for x,y in get_batches(data,batch_size,seq_len):\n",
    "            optimizer.zero_grad()\n",
    "            x = torch.tensor(x).float().to(device)\n",
    "            out, hs = model(x,hs)\n",
    "            hs = ([h.data for h in hs]) #读取每一个hidden_size的结点\n",
    "            #对targets的one-hot encoding 进行逆向转换\n",
    "            y = y.reshape(-1,len(model.vocab))\n",
    "            y = model.onehot_decode(y)\n",
    "            y = model.label_encode(y.squeeze())\n",
    "            #类型转换\n",
    "            y = torch.from_numpy(y).long().to(device) #float类型会报错，要long\n",
    "            \n",
    "            loss = criterion(out,y.squeeze())\n",
    "            loss.backward()\n",
    "            \n",
    "            optimizer.step()\n",
    "            \n",
    "            train_ls += loss.item()\n",
    "        \n",
    "        if valid is not None:\n",
    "            model.eval()\n",
    "            hs = None\n",
    "            with torch.no_grad():\n",
    "                for x,y in get_batches(valid,batch_size,seq_len):\n",
    "                    x = torch.tensor(x).float().to(device)\n",
    "                    out,hs = model(x,hs)\n",
    "                    hs = ([h.data for h in hs])\n",
    "                    \n",
    "                    y = y.reshape(-1,len(model.vocab))\n",
    "                    y = model.onehot_decode(y)\n",
    "                    y = model.label_encode(y.squeeze())\n",
    "                    y = torch.from_numpy(y).long().to(device)\n",
    "                    \n",
    "                    loss = criterion(out,y.squeeze())\n",
    "                    val_ls += loss.item()\n",
    "                \n",
    "                val_loss.append(np.mean(val_ls)) #求出每一轮的损失均值\n",
    "            \n",
    "            train_loss.append(np.mean(train_ls))\n",
    "        \n",
    "        print(f'--------------Epochs{epochs} | {epoch}---------------')\n",
    "        print(f'Train Loss : {train_loss[-1]}') # 这里-1为最后添加进去的loss值，即本轮batch的loss\n",
    "        if val_loss:\n",
    "            print(f'Val Loss : {val_loss[-1]}')\n",
    "    \n",
    "    # 绘制loss曲线\n",
    "    plt.plot(train_loss, label='Train Loss')\n",
    "    plt.plot(val_loss, label='Val Loss')\n",
    "    plt.title('Loss vs Epochs')\n",
    "    plt.legend()\n",
    "    plt.show()"
   ]
  },
  {
   "cell_type": "code",
   "execution_count": 5,
   "id": "3632f16e",
   "metadata": {},
   "outputs": [],
   "source": [
    "#获取数据\n",
    "with open(\"anna.txt\") as data:\n",
    "    text = data.read()"
   ]
  },
  {
   "cell_type": "code",
   "execution_count": 6,
   "id": "74d22cfe",
   "metadata": {},
   "outputs": [
    {
     "data": {
      "text/plain": [
       "'Chapter 1\\n\\n\\nHappy families are all alike; every unhappy family is unhappy in its own\\nway.\\n\\nEverythin'"
      ]
     },
     "execution_count": 6,
     "metadata": {},
     "output_type": "execute_result"
    }
   ],
   "source": [
    "#显示前100的字符\n",
    "text[:100]"
   ]
  },
  {
   "cell_type": "code",
   "execution_count": 7,
   "id": "bf29dd34",
   "metadata": {},
   "outputs": [
    {
     "data": {
      "text/plain": [
       "array(['\\n', ' ', '!', '\"', '$', '%', '&', \"'\", '(', ')', '*', ',', '-',\n",
       "       '.', '/', '0', '1', '2', '3', '4', '5', '6', '7', '8', '9', ':',\n",
       "       ';', '?', '@', 'A', 'B', 'C', 'D', 'E', 'F', 'G', 'H', 'I', 'J',\n",
       "       'K', 'L', 'M', 'N', 'O', 'P', 'Q', 'R', 'S', 'T', 'U', 'V', 'W',\n",
       "       'X', 'Y', 'Z', '_', '`', 'a', 'b', 'c', 'd', 'e', 'f', 'g', 'h',\n",
       "       'i', 'j', 'k', 'l', 'm', 'n', 'o', 'p', 'q', 'r', 's', 't', 'u',\n",
       "       'v', 'w', 'x', 'y', 'z'], dtype='<U1')"
      ]
     },
     "execution_count": 7,
     "metadata": {},
     "output_type": "execute_result"
    }
   ],
   "source": [
    "#筛选出文本数据中不同的字符\n",
    "vocab = np.array(sorted(set(text)))\n",
    "\n",
    "vocab"
   ]
  },
  {
   "cell_type": "code",
   "execution_count": 8,
   "id": "d622c7ec",
   "metadata": {},
   "outputs": [],
   "source": [
    "vocab_size = len(vocab)\n",
    "val_len = int(np.floor(0.2*len(text)))\n"
   ]
  },
  {
   "cell_type": "code",
   "execution_count": 9,
   "id": "43980e55",
   "metadata": {},
   "outputs": [
    {
     "name": "stdout",
     "output_type": "stream",
     "text": [
      "(1588179,)\n",
      "(397044,)\n"
     ]
    }
   ],
   "source": [
    "trainset = np.array(list(text[:-val_len]))\n",
    "validset = np.array(list(text[-val_len:]))\n",
    "\n",
    "print(trainset.shape)\n",
    "print(validset.shape)"
   ]
  },
  {
   "cell_type": "code",
   "execution_count": 10,
   "id": "7cde5f5f",
   "metadata": {},
   "outputs": [
    {
     "data": {
      "text/plain": [
       "lstm_model(\n",
       "  (lstm): LSTM(83, 256, num_layers=2, batch_first=True, dropout=0.5)\n",
       "  (linear): Linear(in_features=256, out_features=83, bias=True)\n",
       ")"
      ]
     },
     "execution_count": 10,
     "metadata": {},
     "output_type": "execute_result"
    }
   ],
   "source": [
    "#定义超参数\n",
    "hidden_size = 256\n",
    "num_layers = 2\n",
    "batch_size = 128\n",
    "seq_len = 100\n",
    "epochs = 3\n",
    "lr = 0.01\n",
    "\n",
    "model = lstm_model(vocab,hidden_size,num_layers)\n",
    "\n",
    "model"
   ]
  },
  {
   "cell_type": "code",
   "execution_count": 11,
   "id": "b9b791fc",
   "metadata": {
    "scrolled": true
   },
   "outputs": [
    {
     "name": "stderr",
     "output_type": "stream",
     "text": [
      "C:\\Users\\user\\anaconda3\\lib\\site-packages\\torch\\cuda\\__init__.py:52: UserWarning: CUDA initialization: The NVIDIA driver on your system is too old (found version 9020). Please update your GPU driver by downloading and installing a new version from the URL: http://www.nvidia.com/Download/index.aspx Alternatively, go to: https://pytorch.org to install a PyTorch version that has been compiled with your version of the CUDA driver. (Triggered internally at  ..\\c10\\cuda\\CUDAFunctions.cpp:115.)\n",
      "  return torch._C._cuda_getDeviceCount() > 0\n"
     ]
    },
    {
     "name": "stdout",
     "output_type": "stream",
     "text": [
      "--------------Epochs3 | 0---------------\n",
      "Train Loss : 389.0932834148407\n",
      "Val Loss : 96.908700466156\n",
      "--------------Epochs3 | 1---------------\n",
      "Train Loss : 373.9860439300537\n",
      "Val Loss : 89.67189168930054\n",
      "--------------Epochs3 | 2---------------\n",
      "Train Loss : 320.87155413627625\n",
      "Val Loss : 69.73346543312073\n"
     ]
    },
    {
     "data": {
      "image/png": "[encoded data removed]",
      "text/plain": [
       "<Figure size 432x288 with 1 Axes>"
      ]
     },
     "metadata": {
      "needs_background": "light"
     },
     "output_type": "display_data"
    }
   ],
   "source": [
    "train(model,trainset,batch_size,seq_len,epochs,lr=lr,valid=validset)"
   ]
  },
  {
   "cell_type": "code",
   "execution_count": 14,
   "id": "24e75f5f",
   "metadata": {},
   "outputs": [],
   "source": [
    "def predict(model,char,top_k=None,hidden_size = None):\n",
    "    device = 'cuda' if torch.cuda.is_available() else 'cpu'\n",
    "    model.to(device)\n",
    "    model.eval()\n",
    "    with torch.no_grad():\n",
    "        char = np.array([char])\n",
    "        char = char.reshape(-1,1)\n",
    "        char_encoding = model.onehot_encode(char)\n",
    "        char_encoding = char_encoding.reshape(1,1,-1)\n",
    "        char_tensor = torch.tensor(char_encoding, dtype=torch.float32)\n",
    "        char_tensor = char_tensor.to(device)\n",
    "        \n",
    "        out,hidden_size = model(char_tensor,hidden_size)\n",
    "        \n",
    "        probs = F.softmax(out,dim=1).squeeze()\n",
    "        \n",
    "        if top_k is None:\n",
    "            indices = np.arange(vocab_size)\n",
    "        else:\n",
    "            probs, indices = probs.topk(top_k)\n",
    "            indices = indices.cpu().numpy()\n",
    "        \n",
    "        probs = probs.cpu().numpy()\n",
    "        \n",
    "        he = np.sum(probs)\n",
    "        char_index = np.random.choice(indices,p = probs/ probs.sum()) #随机选取一个索引\n",
    "        char = model.int_char[char_index] #获取索引对应的字符\n",
    "        \n",
    "    return char ,hidden_size"
   ]
  },
  {
   "cell_type": "code",
   "execution_count": 16,
   "id": "6e673ad6",
   "metadata": {},
   "outputs": [
    {
     "data": {
      "text/plain": [
       "'every unhappy familtifing hurte she here sing, as asd of to astenting on at\\nshad\\nout and sar sart ons she shite the he tor wete, and son tho thee the sarling he toose soos, whe cald at th her here wat her, we ther, the\\nsore whe siss the chersing sher ant ant the he tor sher the woud and thers he sarilore.\\nHo shes sotte he hime, war are woring sistere herse sorler thet that that thit all the sangasse the welittes hilg tith and time he ceude has all, and hough sho the than and thet hos on al ho cathens the her thing of he werl, she sith she woun to his the tas thing at an shes ho coud toed and and thit tu ant her seling hat an were to thit the hense wom the wimt her sher the he toot the celing to shim had ard,\"\" we the\\nsist as tore thad an wore\\nhit as her, the\\nsale the sale there shor wome, as the tint out there and that and of hat seed the hor soon the hussadering she wome sho she hond she san wat he hor with on sar the wittinn he come the carled. \"Were ale ther wot ald. I she the here, he seranged ans ofe wing\\nand alle hor the west has has to wese an tham shang, at to seen wore, she wat hund and son antind atting of hited same soot, hor. \"\"he\\nwenle at to there wiss.\\n\"\"\"\"\\n\\nWhe the wome wout the whilg has hild we tout to sat at serare hes soting ale arere ther wet alt as and to ther hat sas shite ar she sale thit at the cere the sall, thad and at hantente thos shas the che hente ture shat thor torind ham and, saming on tad shilg the ceme hard her to the handisg hin and ther the sher the te with she hat the tith her. He sored te wes athere womt at she heresserery, here\\nsat hit ats at the her arte ware has anle honstan sered and anst anger,\\nwond and shat tised\\nhoud. And and he te soud her.\"\\n\\n\"Astind sarl whe here at one at he cher sore tore her the sanle sore wo tist, he\\nwouter,\\nsishes,, and, and the sanl, the wat to she halting at as soushy wilt tham her,. Th he him she caserath the sanle the sot th whe wang hot ang of the canly, she her all as artertor the cerery tort he sate wous he wou'"
      ]
     },
     "execution_count": 16,
     "metadata": {},
     "output_type": "execute_result"
    }
   ],
   "source": [
    "#获取一个样本\n",
    "def sample(model,length,top_k=None,sentence=\"every unhappy familt\"):\n",
    "    hidden_size = None\n",
    "    new_sentence = [char for char in sentence]\n",
    "    for i in range(length):\n",
    "        next_char,hidden_size = predict(model,new_sentence[-1],top_k=top_k,hidden_size=hidden_size)\n",
    "        new_sentence.append(next_char)\n",
    "    \n",
    "    return ''.join(new_sentence)\n",
    "\n",
    "new_text = sample(model, 2000, top_k=5)\n",
    "new_text"
   ]
  },
  {
   "cell_type": "code",
   "execution_count": 18,
   "id": "53d0fa16",
   "metadata": {},
   "outputs": [],
   "source": [
    "model_name = \"lstm_model.net\"\n",
    "\n",
    "checkpoint = {\n",
    "    'hidden_size' : model.hidden_size,\n",
    "    'num_layers' : model.num_layers,\n",
    "    'state_dict' : model.state_dict()\n",
    "}\n",
    "\n",
    "with open(model_name, 'wb') as f:\n",
    "    torch.save(checkpoint, f)"
   ]
  },
  {
   "cell_type": "code",
   "execution_count": null,
   "id": "6d809686",
   "metadata": {},
   "outputs": [],
   "source": []
  }
 ],
 "metadata": {
  "kernelspec": {
   "display_name": "Python 3",
   "language": "python",
   "name": "python3"
  },
  "language_info": {
   "codemirror_mode": {
    "name": "ipython",
    "version": 3
   },
   "file_extension": ".py",
   "mimetype": "text/x-python",
   "name": "python",
   "nbconvert_exporter": "python",
   "pygments_lexer": "ipython3",
   "version": "3.8.8"
  }
 },
 "nbformat": 4,
 "nbformat_minor": 5
}
