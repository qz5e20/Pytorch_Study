{
 "cells": [
  {
   "cell_type": "code",
   "execution_count": 1,
   "id": "6eacbc83",
   "metadata": {},
   "outputs": [],
   "source": [
    "import torch\n",
    "import numpy as np"
   ]
  },
  {
   "cell_type": "markdown",
   "id": "1300c10e",
   "metadata": {},
   "source": [
    "# 构建"
   ]
  },
  {
   "cell_type": "code",
   "execution_count": 2,
   "id": "88f22df4",
   "metadata": {},
   "outputs": [
    {
     "name": "stdout",
     "output_type": "stream",
     "text": [
      "标量： tensor(4.)\n"
     ]
    }
   ],
   "source": [
    "#标量\n",
    "a = torch.tensor(4.0)\n",
    "print(\"标量：\",a)"
   ]
  },
  {
   "cell_type": "code",
   "execution_count": 3,
   "id": "4b1f5457",
   "metadata": {},
   "outputs": [
    {
     "name": "stdout",
     "output_type": "stream",
     "text": [
      "向量： tensor([1.5000, 0.0000, 3.0000])\n"
     ]
    }
   ],
   "source": [
    "#向量\n",
    "b = torch.tensor([1.5,0,3])\n",
    "print(\"向量：\",b)"
   ]
  },
  {
   "cell_type": "code",
   "execution_count": 4,
   "id": "91f63cc6",
   "metadata": {},
   "outputs": [
    {
     "name": "stdout",
     "output_type": "stream",
     "text": [
      "矩阵： tensor([[1, 2],\n",
      "        [3, 4]])\n"
     ]
    }
   ],
   "source": [
    "#矩阵\n",
    "c = torch.tensor([[1,2],[3,4]])\n",
    "print(\"矩阵：\",c)"
   ]
  },
  {
   "cell_type": "code",
   "execution_count": 5,
   "id": "9a312664",
   "metadata": {},
   "outputs": [
    {
     "name": "stdout",
     "output_type": "stream",
     "text": [
      "多维矩阵： tensor([[[1, 2],\n",
      "         [3, 4]],\n",
      "\n",
      "        [[5, 6],\n",
      "         [7, 8]]])\n"
     ]
    }
   ],
   "source": [
    "#多维矩阵\n",
    "d = torch.tensor([[[1,2],[3,4]],[[5,6],[7,8]]])\n",
    "print(\"多维矩阵：\",d)"
   ]
  },
  {
   "cell_type": "code",
   "execution_count": 6,
   "id": "bbe8a366",
   "metadata": {},
   "outputs": [
    {
     "name": "stdout",
     "output_type": "stream",
     "text": [
      "tensor([[9.6429e-39, 9.2755e-39, 1.0286e-38],\n",
      "        [9.0919e-39, 8.9082e-39, 9.2755e-39],\n",
      "        [8.4490e-39, 1.0194e-38, 9.0919e-39],\n",
      "        [8.4490e-39, 1.0653e-38, 9.9184e-39],\n",
      "        [8.4490e-39, 8.9082e-39, 8.9082e-39]])\n"
     ]
    }
   ],
   "source": [
    "#创建空的tensor\n",
    "e = torch.empty(5,3)\n",
    "print(e)"
   ]
  },
  {
   "cell_type": "code",
   "execution_count": 7,
   "id": "b409a15f",
   "metadata": {},
   "outputs": [
    {
     "name": "stdout",
     "output_type": "stream",
     "text": [
      "tensor([[0.7992, 0.8437, 0.3167],\n",
      "        [0.1142, 0.1135, 0.0816],\n",
      "        [0.0669, 0.1073, 0.2714],\n",
      "        [0.3257, 0.9865, 0.2308],\n",
      "        [0.4817, 0.2304, 0.7445]])\n"
     ]
    }
   ],
   "source": [
    "#创建随机矩阵\n",
    "f = torch.rand(5,3)\n",
    "\n",
    "print(f)"
   ]
  },
  {
   "cell_type": "code",
   "execution_count": 8,
   "id": "858b81c5",
   "metadata": {},
   "outputs": [
    {
     "name": "stdout",
     "output_type": "stream",
     "text": [
      "tensor([[0, 0, 0],\n",
      "        [0, 0, 0],\n",
      "        [0, 0, 0],\n",
      "        [0, 0, 0],\n",
      "        [0, 0, 0]])\n"
     ]
    }
   ],
   "source": [
    "#创建一个全0的矩阵,数据类型为long\n",
    "g = torch.zeros(5,3,dtype=torch.long) \n",
    "print(g)"
   ]
  },
  {
   "cell_type": "code",
   "execution_count": 9,
   "id": "413f0f37",
   "metadata": {},
   "outputs": [
    {
     "name": "stdout",
     "output_type": "stream",
     "text": [
      "tensor([[1., 1., 1.],\n",
      "        [1., 1., 1.],\n",
      "        [1., 1., 1.],\n",
      "        [1., 1., 1.],\n",
      "        [1., 1., 1.]])\n"
     ]
    }
   ],
   "source": [
    "#创建全1的矩阵\n",
    "h = torch.ones(5,3)\n",
    "print(h)"
   ]
  },
  {
   "cell_type": "code",
   "execution_count": 10,
   "id": "d1f0c4fa",
   "metadata": {},
   "outputs": [
    {
     "name": "stdout",
     "output_type": "stream",
     "text": [
      "tensor([[0.4704, 0.5700, 0.0417],\n",
      "        [0.2691, 0.9765, 0.6854],\n",
      "        [0.4202, 0.9677, 0.0883],\n",
      "        [0.7737, 0.7483, 0.4741],\n",
      "        [0.3202, 0.7780, 0.6259]])\n"
     ]
    }
   ],
   "source": [
    "#创建一个产生随机元素的矩阵，其shape与另一个矩阵的shape大小一致\n",
    "i = torch.rand_like(h,dtype=torch.float)\n",
    "print(i)"
   ]
  },
  {
   "cell_type": "markdown",
   "id": "38ebc663",
   "metadata": {},
   "source": [
    "# 基本预算"
   ]
  },
  {
   "cell_type": "code",
   "execution_count": 11,
   "id": "231a01ae",
   "metadata": {},
   "outputs": [
    {
     "name": "stdout",
     "output_type": "stream",
     "text": [
      "Tensor 加法 tensor([5, 7, 9])\n",
      "Tensor 加法 tensor([5, 7, 9])\n",
      "Tensor 加法 tensor([5, 7, 9])\n",
      "tensor([5, 7, 9])\n",
      "tensor([4, 5, 6])\n"
     ]
    }
   ],
   "source": [
    "#加法\n",
    "j = torch.tensor([1,2,3])\n",
    "k = torch.tensor([4,5,6])\n",
    "\n",
    "print(\"Tensor 加法\",j+k)\n",
    "print(\"Tensor 加法\",torch.add(j,k))\n",
    "#改变原始的j\n",
    "print(\"Tensor 加法\",j.add_(k))\n",
    "print(j)\n",
    "print(k)"
   ]
  },
  {
   "cell_type": "code",
   "execution_count": 12,
   "id": "72847573",
   "metadata": {},
   "outputs": [
    {
     "name": "stdout",
     "output_type": "stream",
     "text": [
      "Tensor 除法 tensor([0, 0])\n",
      "Tensor 除法 tensor([0.3333, 0.1667])\n"
     ]
    },
    {
     "name": "stderr",
     "output_type": "stream",
     "text": [
      "C:\\Users\\user\\anaconda3\\lib\\site-packages\\torch\\_tensor.py:579: UserWarning: floor_divide is deprecated, and will be removed in a future version of pytorch. It currently rounds toward 0 (like the 'trunc' function NOT 'floor'). This results in incorrect rounding for negative values.\n",
      "To keep the current behavior, use torch.div(a, b, rounding_mode='trunc'), or for actual floor division, use torch.div(a, b, rounding_mode='floor'). (Triggered internally at  ..\\aten\\src\\ATen\\native\\BinaryOps.cpp:467.)\n",
      "  return torch.floor_divide(other, self)\n"
     ]
    }
   ],
   "source": [
    "#除法\n",
    "l = torch.tensor([6,12])\n",
    "m = torch.tensor([3,6])\n",
    "\n",
    "print(\"Tensor 除法\",1//m)\n",
    "print(\"Tensor 除法\",torch.true_divide(1,m))"
   ]
  },
  {
   "cell_type": "code",
   "execution_count": 13,
   "id": "c0ab1265",
   "metadata": {},
   "outputs": [
    {
     "name": "stdout",
     "output_type": "stream",
     "text": [
      "Tensor 乘法 tensor([[2.]])\n",
      "Tensor 乘法 tensor([[2.]])\n",
      "Tensor 乘法 tensor([[2.]])\n",
      "Tensor 乘法 tensor([[2.]])\n"
     ]
    }
   ],
   "source": [
    "#二维矩阵的乘法\n",
    "n = torch.ones(1,2)\n",
    "p = torch.ones(2,1)\n",
    "print(\"Tensor 乘法\",torch.mm(n,p))\n",
    "print(\"Tensor 乘法\",torch.matmul(n,p))\n",
    "print(\"Tensor 乘法\",n@p)\n",
    "#替代\n",
    "print(\"Tensor 乘法\",n.mm(p))"
   ]
  },
  {
   "cell_type": "code",
   "execution_count": 14,
   "id": "dc1f6258",
   "metadata": {},
   "outputs": [
    {
     "name": "stdout",
     "output_type": "stream",
     "text": [
      "Tensor 幂运算 tensor([4, 9])\n",
      "Tensor 幂运算 tensor([4, 9])\n",
      "Tensor 幂运算 tensor([4, 9])\n"
     ]
    }
   ],
   "source": [
    "#幂运算\n",
    "q = torch.tensor([2,3])\n",
    "print(\"Tensor 幂运算\",torch.pow(q,2))\n",
    "print(\"Tensor 幂运算\",q.pow(2))\n",
    "print(\"Tensor 幂运算\",q**2)"
   ]
  },
  {
   "cell_type": "code",
   "execution_count": 15,
   "id": "1f4c1f18",
   "metadata": {},
   "outputs": [
    {
     "name": "stdout",
     "output_type": "stream",
     "text": [
      "Tensor 开方 tensor([2., 4.])\n",
      "Tensor 开方 tensor([2., 4.])\n"
     ]
    }
   ],
   "source": [
    "#根号\n",
    "r = torch.tensor([4,16],dtype=torch.float)\n",
    "print(\"Tensor 开方\", r.sqrt())\n",
    "print(\"Tensor 开方\", torch.sqrt(r))"
   ]
  },
  {
   "cell_type": "code",
   "execution_count": 16,
   "id": "379b3d89",
   "metadata": {},
   "outputs": [
    {
     "name": "stdout",
     "output_type": "stream",
     "text": [
      "Tensor 对数运算 tensor([3., 4., 5.])\n",
      "Tensor 对数运算 tensor([2., 3., 4.])\n",
      "Tensor 对数运算 tensor([2.9957, 3.4012, 3.6889])\n"
     ]
    }
   ],
   "source": [
    "#对数运算\n",
    "s1 = torch.tensor([8,16,32],dtype=torch.float)\n",
    "print(\"Tensor 对数运算\",torch.log2(s1))\n",
    "s2 = torch.tensor([100,1000,10000],dtype=torch.float)\n",
    "print(\"Tensor 对数运算\",torch.log10(s2))\n",
    "s3 = torch.tensor([20,30,40],dtype=torch.float)\n",
    "print(\"Tensor 对数运算\",torch.log(s3))#默认以e为底"
   ]
  },
  {
   "cell_type": "code",
   "execution_count": 17,
   "id": "22aa8b4d",
   "metadata": {},
   "outputs": [
    {
     "name": "stdout",
     "output_type": "stream",
     "text": [
      "向下取整 tensor([3., 9., 4.])\n",
      "向上取整 tensor([ 4., 10.,  5.])\n",
      "四舍五入 tensor([ 4., 10.,  4.])\n",
      "只取整数部分 tensor([3., 9., 4.])\n",
      "只取小数部分 tensor([0.5000, 0.9820, 0.2150])\n",
      "取余数 tensor([4, 3])\n"
     ]
    }
   ],
   "source": [
    "#取整，取余\n",
    "t = torch.tensor([3.5,9.982,4.215])\n",
    "print(\"向下取整\",t.floor())\n",
    "print(\"向上取整\",t.ceil())\n",
    "print(\"四舍五入\",t.round())\n",
    "print(\"只取整数部分\",t.trunc())\n",
    "print(\"只取小数部分\",t.frac())\n",
    "print(\"取余数\",torch.tensor([25,31])%7)"
   ]
  },
  {
   "cell_type": "markdown",
   "id": "b2b6af51",
   "metadata": {},
   "source": [
    "# 其他的一些操作"
   ]
  },
  {
   "cell_type": "code",
   "execution_count": 18,
   "id": "5d9b0ef9",
   "metadata": {},
   "outputs": [
    {
     "name": "stdout",
     "output_type": "stream",
     "text": [
      "torch.Size([2, 3])\n",
      "resize tensor([[1, 2],\n",
      "        [3, 4],\n",
      "        [5, 6]])\n",
      "reshape tensor([[1, 2],\n",
      "        [3, 4],\n",
      "        [5, 6]])\n",
      "vies tensor([[1, 2],\n",
      "        [3, 4],\n",
      "        [5, 6]])\n"
     ]
    },
    {
     "name": "stderr",
     "output_type": "stream",
     "text": [
      "C:\\Users\\user\\anaconda3\\lib\\site-packages\\torch\\_tensor.py:490: UserWarning: non-inplace resize is deprecated\n",
      "  warnings.warn(\"non-inplace resize is deprecated\")\n"
     ]
    }
   ],
   "source": [
    "#重构\n",
    "u = torch.tensor([[1,2,3],\n",
    "                [4,5,6]])\n",
    "print(u.shape)\n",
    "print(\"resize\",u.resize(3,2))\n",
    "print(\"reshape\",u.reshape(3,2))\n",
    "print(\"vies\",u.view(3,2))"
   ]
  },
  {
   "cell_type": "code",
   "execution_count": 19,
   "id": "6a0a3166",
   "metadata": {},
   "outputs": [
    {
     "name": "stdout",
     "output_type": "stream",
     "text": [
      "获取tensor的值：item():\n",
      " 2.299999952316284\n"
     ]
    }
   ],
   "source": [
    "#获取一个tensor的值\n",
    "v = torch.tensor([2.3])\n",
    "\n",
    "print(\"获取tensor的值：item():\\n\",v.item())"
   ]
  },
  {
   "cell_type": "code",
   "execution_count": 20,
   "id": "cc0628f5",
   "metadata": {},
   "outputs": [
    {
     "name": "stdout",
     "output_type": "stream",
     "text": [
      "Tensor升序排序 torch.return_types.sort(\n",
      "values=tensor([ 2,  4,  9, 11, 13, 18, 22, 35]),\n",
      "indices=tensor([0, 5, 3, 4, 7, 6, 1, 2]))\n",
      "降序 torch.return_types.sort(\n",
      "values=tensor([35, 22, 18, 13, 11,  9,  4,  2]),\n",
      "indices=tensor([2, 1, 6, 7, 4, 3, 5, 0]))\n"
     ]
    }
   ],
   "source": [
    "#tensor排序\n",
    "w = torch.tensor([2,22,35,9,11,4,18,13])\n",
    "\n",
    "print(\"Tensor升序排序\",torch.sort(w))\n",
    "print(\"降序\",torch.sort(w,descending=True))"
   ]
  },
  {
   "cell_type": "code",
   "execution_count": 21,
   "id": "921ee369",
   "metadata": {},
   "outputs": [
    {
     "name": "stdout",
     "output_type": "stream",
     "text": [
      "前四大的元素： torch.return_types.topk(\n",
      "values=tensor([35, 22, 18, 13]),\n",
      "indices=tensor([2, 1, 6, 7]))\n"
     ]
    }
   ],
   "source": [
    "#沿着指定维度返回最大k个数值及其索引值,top k方法\n",
    "x = torch.tensor([2,22,35,9,11,4,18,13])\n",
    "print(\"前四大的元素：\",torch.topk(x,k=4,dim=0,largest=True,sorted=True,out=None))\n"
   ]
  },
  {
   "cell_type": "code",
   "execution_count": 22,
   "id": "e6ad6c39",
   "metadata": {},
   "outputs": [
    {
     "name": "stdout",
     "output_type": "stream",
     "text": [
      "沿着维度返回第k个最小值和它的位置： torch.return_types.kthvalue(\n",
      "values=tensor(13),\n",
      "indices=tensor(7))\n"
     ]
    }
   ],
   "source": [
    "print(\"沿着维度返回第k个最小值和它的位置：\",torch.kthvalue(x,5,dim=0))"
   ]
  },
  {
   "cell_type": "code",
   "execution_count": 23,
   "id": "3dd54c71",
   "metadata": {},
   "outputs": [
    {
     "name": "stdout",
     "output_type": "stream",
     "text": [
      "tensor([False, False, False])\n"
     ]
    }
   ],
   "source": [
    "#判断是否为nan，inf ，finite\n",
    "y = torch.tensor([2,3,4])\n",
    "\n",
    "print(torch.isnan(y))\n"
   ]
  },
  {
   "cell_type": "code",
   "execution_count": 24,
   "id": "53b2a5c5",
   "metadata": {},
   "outputs": [
    {
     "name": "stdout",
     "output_type": "stream",
     "text": [
      "tensor([True, True, True])\n"
     ]
    }
   ],
   "source": [
    "#检查参数是否无胸大\n",
    "print(torch.isfinite(y))"
   ]
  },
  {
   "cell_type": "code",
   "execution_count": 25,
   "id": "408659f9",
   "metadata": {},
   "outputs": [
    {
     "name": "stdout",
     "output_type": "stream",
     "text": [
      "[4 5 6]\n"
     ]
    }
   ],
   "source": [
    "#tensor 转 numpy 和反转\n",
    "z = torch.tensor([4,5,6])\n",
    "\n",
    "print(z.numpy())"
   ]
  },
  {
   "cell_type": "code",
   "execution_count": 26,
   "id": "bf218d4c",
   "metadata": {},
   "outputs": [
    {
     "name": "stdout",
     "output_type": "stream",
     "text": [
      "tensor([1., 1., 1., 1., 1., 1.], dtype=torch.float64)\n"
     ]
    }
   ],
   "source": [
    "z2 = np.ones(6)\n",
    "print(torch.from_numpy(z2))\n"
   ]
  },
  {
   "cell_type": "code",
   "execution_count": 27,
   "id": "9732f4d5",
   "metadata": {},
   "outputs": [
    {
     "name": "stdout",
     "output_type": "stream",
     "text": [
      "tensor([5, 7, 9])\n"
     ]
    }
   ],
   "source": [
    "#判断GPU\n",
    "if torch.cuda.is_available():\n",
    "    device = torch.device('cuda')\n",
    "else:\n",
    "    device = torch.device('cpu')\n",
    "a1 = torch.tensor([1,2,3],device=device)\n",
    "a2 = torch.tensor([4,5,6],device=device)\n",
    "res = a1+a2\n",
    "print(res)"
   ]
  },
  {
   "cell_type": "code",
   "execution_count": null,
   "id": "84324bc8",
   "metadata": {},
   "outputs": [],
   "source": []
  }
 ],
 "metadata": {
  "kernelspec": {
   "display_name": "Python 3",
   "language": "python",
   "name": "python3"
  },
  "language_info": {
   "codemirror_mode": {
    "name": "ipython",
    "version": 3
   },
   "file_extension": ".py",
   "mimetype": "text/x-python",
   "name": "python",
   "nbconvert_exporter": "python",
   "pygments_lexer": "ipython3",
   "version": "3.8.8"
  }
 },
 "nbformat": 4,
 "nbformat_minor": 5
}
