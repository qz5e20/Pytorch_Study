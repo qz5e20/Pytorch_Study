{
 "cells": [
  {
   "cell_type": "markdown",
   "id": "c7fbe56a",
   "metadata": {},
   "source": [
    "# RNN 实现\n",
    "#1.加载数据集\n",
    "#2.使得数据集可以跌倒\n",
    "#3.创建，初始化模型类\n",
    "#4.初始化损失类\n",
    "#5.训练模型"
   ]
  },
  {
   "cell_type": "code",
   "execution_count": 1,
   "id": "1397330b",
   "metadata": {},
   "outputs": [],
   "source": [
    "import torch\n",
    "import torch.nn as nn\n",
    "import torchvision.transforms as transforms\n",
    "import torchvision.datasets as datasets\n",
    "import torchvision\n",
    "import numpy as np\n",
    "import pandas as pd\n",
    "import matplotlib.pyplot as plt\n",
    "import os"
   ]
  },
  {
   "cell_type": "code",
   "execution_count": 2,
   "id": "54cf19fc",
   "metadata": {},
   "outputs": [],
   "source": [
    "os.environ['KMP_DUPLICATE_LIB_OK']='True'"
   ]
  },
  {
   "cell_type": "code",
   "execution_count": 3,
   "id": "4f02cce1",
   "metadata": {},
   "outputs": [
    {
     "name": "stderr",
     "output_type": "stream",
     "text": [
      "C:\\Users\\user\\anaconda3\\lib\\site-packages\\torchvision\\datasets\\mnist.py:498: UserWarning: The given NumPy array is not writeable, and PyTorch does not support non-writeable tensors. This means you can write to the underlying (supposedly non-writeable) NumPy array using the tensor. You may want to copy the array to protect its data or make it writeable before converting it to a tensor. This type of warning will be suppressed for the rest of this program. (Triggered internally at  ..\\torch\\csrc\\utils\\tensor_numpy.cpp:180.)\n",
      "  return torch.from_numpy(parsed.astype(m[2], copy=False)).view(*s)\n"
     ]
    }
   ],
   "source": [
    "#下载数据集\n",
    "trainsets = datasets.MNIST(\"data_mnist\", train=True, download=True, transform=transforms.ToTensor())\n",
    "\n",
    "testsets = datasets.MNIST(\"data_mnist\", train=False, transform=transforms.ToTensor())"
   ]
  },
  {
   "cell_type": "code",
   "execution_count": 4,
   "id": "0eed2226",
   "metadata": {},
   "outputs": [
    {
     "name": "stdout",
     "output_type": "stream",
     "text": [
      "['0 - zero', '1 - one', '2 - two', '3 - three', '4 - four', '5 - five', '6 - six', '7 - seven', '8 - eight', '9 - nine']\n"
     ]
    }
   ],
   "source": [
    "class_names = trainsets.classes #查看标签、类别\n",
    "\n",
    "print(class_names)"
   ]
  },
  {
   "cell_type": "code",
   "execution_count": 5,
   "id": "5ba76458",
   "metadata": {},
   "outputs": [
    {
     "name": "stdout",
     "output_type": "stream",
     "text": [
      "torch.Size([60000, 28, 28])\n"
     ]
    }
   ],
   "source": [
    "#查看数据集的大小shape\n",
    "\n",
    "print(trainsets.data.shape)"
   ]
  },
  {
   "cell_type": "code",
   "execution_count": 6,
   "id": "9680c7cf",
   "metadata": {},
   "outputs": [
    {
     "name": "stdout",
     "output_type": "stream",
     "text": [
      "torch.Size([60000])\n"
     ]
    }
   ],
   "source": [
    "print(trainsets.targets.shape)"
   ]
  },
  {
   "cell_type": "code",
   "execution_count": 7,
   "id": "1b7a5cb2",
   "metadata": {},
   "outputs": [
    {
     "name": "stdout",
     "output_type": "stream",
     "text": [
      "torch.Size([10000, 28, 28])\n"
     ]
    }
   ],
   "source": [
    "print(testsets.data.shape)"
   ]
  },
  {
   "cell_type": "code",
   "execution_count": 8,
   "id": "5c0e464c",
   "metadata": {},
   "outputs": [
    {
     "name": "stdout",
     "output_type": "stream",
     "text": [
      "torch.Size([10000])\n"
     ]
    }
   ],
   "source": [
    "print(testsets.targets.shape)"
   ]
  },
  {
   "cell_type": "code",
   "execution_count": 9,
   "id": "06024e70",
   "metadata": {},
   "outputs": [],
   "source": [
    "# 定义超参数\n",
    "BATCH_SIZE = 16 #每批读取的数据大小\n",
    "EPOCHS = 6 #训练10轮"
   ]
  },
  {
   "cell_type": "code",
   "execution_count": 10,
   "id": "453fdeac",
   "metadata": {},
   "outputs": [],
   "source": [
    "#创建数据集的可迭代对象，也就是一个batchd的读取数据\n",
    "train_loader = torch.utils.data.DataLoader(dataset=trainsets, batch_size=BATCH_SIZE, shuffle=True)\n",
    "\n",
    "test_loader = torch.utils.data.DataLoader(dataset=testsets, batch_size=BATCH_SIZE, shuffle=True)"
   ]
  },
  {
   "cell_type": "code",
   "execution_count": 11,
   "id": "75627cff",
   "metadata": {},
   "outputs": [
    {
     "name": "stdout",
     "output_type": "stream",
     "text": [
      "torch.Size([16, 1, 28, 28])\n",
      "torch.Size([16])\n"
     ]
    }
   ],
   "source": [
    "#查看一批batch的数据\n",
    "\n",
    "images,labels = next(iter(test_loader))\n",
    "print(images.shape)\n",
    "print(labels.shape)"
   ]
  },
  {
   "cell_type": "code",
   "execution_count": 12,
   "id": "c7744d72",
   "metadata": {},
   "outputs": [],
   "source": [
    "#定义函数，显示一批数据\n",
    "def imshow(inp, title=None):\n",
    "    inp = inp.numpy().transpose((1,2,0)) #把大小放前面，颜色通道放到后面\n",
    "    mean =  np.array([0.485,0.456,0.406]) #均值\n",
    "    std = np.array([0.229,0.224,0.225]) #标准差\n",
    "    inp = std*inp + mean  #将数据恢复过来，因为最开始换tensor的时候改变了\n",
    "    inp = np.clip(inp,0,1) #将数据进行压缩,像素值在0和1之间\n",
    "    plt.imshow(inp)\n",
    "    if title is not None:\n",
    "        plt.title(title)\n",
    "    plt.pause(0.001)"
   ]
  },
  {
   "cell_type": "code",
   "execution_count": 13,
   "id": "0529a3f1",
   "metadata": {},
   "outputs": [
    {
     "data": {
      "image/png": "[encoded data removed]",
      "text/plain": [
       "<Figure size 432x288 with 1 Axes>"
      ]
     },
     "metadata": {
      "needs_background": "light"
     },
     "output_type": "display_data"
    }
   ],
   "source": [
    "#网格方式进行显示\n",
    "out = torchvision.utils.make_grid(images)\n",
    "imshow(out)"
   ]
  },
  {
   "cell_type": "code",
   "execution_count": 14,
   "id": "edf65973",
   "metadata": {},
   "outputs": [],
   "source": [
    "#定义RNN'模型\n",
    "class RNN_Model(nn.Module):\n",
    "    def __init__(self,input_dim,hidden_dim,layer_dim,output_dim):\n",
    "        super(RNN_Model, self).__init__()\n",
    "        self.hidden_dim = hidden_dim\n",
    "        self.layer_dim = layer_dim\n",
    "        #Bbatch_first将中间的参数调到前面去\n",
    "        self.rnn = nn.RNN(input_dim,hidden_dim,layer_dim, batch_first=True,nonlinearity='tanh')\n",
    "        #全连接层\n",
    "        self.fc = nn.Linear(hidden_dim,output_dim)\n",
    "    \n",
    "    def forward(self,x):\n",
    "        #(layer_dim.batch_size,hidden_dim)\n",
    "        h0 = torch.zeros(self.layer_dim,x.size(0),self.hidden_dim).requires_grad_().to(device)\n",
    "        #分离隐藏状态，避免梯度爆炸\n",
    "        out, hn = self.rnn(x,h0.detach())\n",
    "        out = self.fc(out[:,-1,:])\n",
    "        return out"
   ]
  },
  {
   "cell_type": "code",
   "execution_count": 15,
   "id": "203eb03c",
   "metadata": {},
   "outputs": [],
   "source": [
    "#初始化模型\n",
    "input_dim = 28 #输入维度\n",
    "hidden_dim = 100 #隐层的维度\n",
    "layer_dim = 2 #2层RNN\n",
    "output_dim = 10 #输出维度\n",
    "\n",
    "device = torch.device('cpu')\n",
    "\n",
    "model = RNN_Model(input_dim,hidden_dim,layer_dim,output_dim).to(device)"
   ]
  },
  {
   "cell_type": "code",
   "execution_count": 16,
   "id": "7e28bf28",
   "metadata": {},
   "outputs": [],
   "source": [
    "#定义损失函数\n",
    "criterion = nn.CrossEntropyLoss()"
   ]
  },
  {
   "cell_type": "code",
   "execution_count": 17,
   "id": "256240b8",
   "metadata": {},
   "outputs": [],
   "source": [
    "#定义优化器\n",
    "learning_rate=0.001\n",
    "\n",
    "optimizer = torch.optim.SGD(model.parameters(),lr=learning_rate)"
   ]
  },
  {
   "cell_type": "code",
   "execution_count": 18,
   "id": "07fb4baa",
   "metadata": {},
   "outputs": [
    {
     "name": "stdout",
     "output_type": "stream",
     "text": [
      "10\n"
     ]
    }
   ],
   "source": [
    "#输出模型参数的信息\n",
    "length =len(list(model.parameters()))\n",
    "print(length)"
   ]
  },
  {
   "cell_type": "code",
   "execution_count": 19,
   "id": "04dc8bfb",
   "metadata": {
    "scrolled": true
   },
   "outputs": [
    {
     "name": "stdout",
     "output_type": "stream",
     "text": [
      "参数：1\n",
      "torch.Size([100, 28])\n",
      "参数：2\n",
      "torch.Size([100, 100])\n",
      "参数：3\n",
      "torch.Size([100])\n",
      "参数：4\n",
      "torch.Size([100])\n",
      "参数：5\n",
      "torch.Size([100, 100])\n",
      "参数：6\n",
      "torch.Size([100, 100])\n",
      "参数：7\n",
      "torch.Size([100])\n",
      "参数：8\n",
      "torch.Size([100])\n",
      "参数：9\n",
      "torch.Size([10, 100])\n",
      "参数：10\n",
      "torch.Size([10])\n"
     ]
    }
   ],
   "source": [
    "#把模型参数打出来\n",
    "for i in range(length):\n",
    "    print('参数：%d'%(i+1))\n",
    "    print(list(model.parameters())[i].shape)"
   ]
  },
  {
   "cell_type": "code",
   "execution_count": 20,
   "id": "27bcd84f",
   "metadata": {
    "scrolled": true
   },
   "outputs": [
    {
     "name": "stdout",
     "output_type": "stream",
     "text": [
      "loop:2000.Loss:2.301060199737549,Accuracy:11.24000072479248\n",
      "loop:4000.Loss:2.29302978515625,Accuracy:10.390000343322754\n",
      "loop:6000.Loss:2.1945745944976807,Accuracy:9.979999542236328\n",
      "loop:8000.Loss:1.4861915111541748,Accuracy:10.239999771118164\n",
      "loop:10000.Loss:0.9702692627906799,Accuracy:10.130000114440918\n",
      "loop:12000.Loss:0.9191430807113647,Accuracy:10.199999809265137\n",
      "loop:14000.Loss:0.899323582649231,Accuracy:9.929999351501465\n",
      "loop:16000.Loss:1.177772045135498,Accuracy:10.329999923706055\n",
      "loop:18000.Loss:0.7973325252532959,Accuracy:9.5600004196167\n",
      "loop:20000.Loss:0.7958930134773254,Accuracy:9.920000076293945\n",
      "loop:22000.Loss:0.504595935344696,Accuracy:10.019999504089355\n"
     ]
    }
   ],
   "source": [
    "#模型训练\n",
    "sequence_dim = 28 #序列长度,代表每张图片每行的像素点\n",
    "loss_list = [] #保存损失\n",
    "accuracy_list = [] #保存准确度\n",
    "iteration_list = [] #保存循次数\n",
    "\n",
    "iter = 0\n",
    "for epoch in range(EPOCHS):\n",
    "    for i,(images,labels) in enumerate(train_loader):\n",
    "        model.train() #声明训练\n",
    "        #一个batch的数据转化为RNN的输入维度\n",
    "        images = images.view(-1,sequence_dim,input_dim).requires_grad_().to(device)\n",
    "        labels = labels.to(device)\n",
    "        #梯度清0，否则会不断累加\n",
    "        optimizer.zero_grad()\n",
    "        #前向传播\n",
    "        outputs = model(images)\n",
    "        #计算损失\n",
    "        loss = criterion(outputs,labels)\n",
    "        #反向传播\n",
    "        loss.backward()\n",
    "        #更新参数\n",
    "        optimizer.step()\n",
    "        #计数器自动加一\n",
    "        iter +=1\n",
    "        #模型验证\n",
    "        if iter % 2000 == 0:\n",
    "            model.eval() #声明，验证模型\n",
    "            #验证准确度\n",
    "            correct = 0.0\n",
    "            total = 0.0\n",
    "            #迭代测试集获取数据预测\n",
    "            for images,labels in test_loader:\n",
    "                images = images.view(-1,sequence_dim,input_dim).to(device)\n",
    "                #模型预测\n",
    "                predict = model(images)\n",
    "                #获取预测概率最大值的下标\n",
    "                predict = torch.max(outputs.data,1)[1]\n",
    "                #统计测试集的大小\n",
    "                total += labels.size(0)\n",
    "                #统计判断，预测正确的数量\n",
    "                correct += (predict == labels).sum()\n",
    "                \n",
    "            accuracy =correct/ total*100\n",
    "            #保存\n",
    "            loss_list.append(loss.data)\n",
    "            accuracy_list.append(accuracy)\n",
    "            iteration_list.append(iter)\n",
    "            #打印信息\n",
    "            print(\"loop:{}.Loss:{},Accuracy:{}\".format(iter,loss.item(),accuracy))"
   ]
  },
  {
   "cell_type": "code",
   "execution_count": 21,
   "id": "55ac2dff",
   "metadata": {},
   "outputs": [
    {
     "data": {
      "image/png": "[encoded data removed]",
      "text/plain": [
       "<Figure size 432x288 with 1 Axes>"
      ]
     },
     "metadata": {
      "needs_background": "light"
     },
     "output_type": "display_data"
    }
   ],
   "source": [
    "#可视化\n",
    "plt.plot(iteration_list, loss_list)\n",
    "plt.xlabel('number of Iteration')\n",
    "plt.ylabel('Loss')\n",
    "plt.title('RNN')\n",
    "plt.show()"
   ]
  },
  {
   "cell_type": "code",
   "execution_count": 22,
   "id": "0f27aae7",
   "metadata": {},
   "outputs": [
    {
     "data": {
      "image/png": "[encoded data removed]",
      "text/plain": [
       "<Figure size 432x288 with 1 Axes>"
      ]
     },
     "metadata": {
      "needs_background": "light"
     },
     "output_type": "display_data"
    }
   ],
   "source": [
    "plt.plot(iteration_list,accuracy_list)\n",
    "plt.xlabel('number of Iteration')\n",
    "plt.ylabel('Acc')\n",
    "plt.title('RNN')\n",
    "plt.show()"
   ]
  },
  {
   "cell_type": "markdown",
   "id": "35bcbb77",
   "metadata": {},
   "source": [
    "LSTM 模型"
   ]
  },
  {
   "cell_type": "code",
   "execution_count": 23,
   "id": "792a88ce",
   "metadata": {},
   "outputs": [],
   "source": [
    "\n",
    "class LSTM_Model(nn.Module):\n",
    "    def __init__(self,input_dim,hidden_dim,layer_dim,output_dim):\n",
    "        super(LSTM_Model,self).__init__()\n",
    "        self.hidden_dim = hidden_dim\n",
    "        self.layer_dim = layer_dim\n",
    "        #构建lstm模型\n",
    "        self.lstm = nn.LSTM(input_dim,hidden_dim,layer_dim,batch_first=True)\n",
    "        #全连接层\n",
    "        self.fc = nn.Linear(hidden_dim,output_dim)\n",
    "        \n",
    "    def forward(self,x):\n",
    "        #初始化隐层状态都为0\n",
    "        h0 = torch.zeros(self.layer_dim,x.size(0),self.hidden_dim).requires_grad_()\n",
    "        #初始化cell state\n",
    "        c0 = torch.zeros(self.layer_dim,x.size(0),self.hidden_dim).requires_grad_()\n",
    "        #分离隐藏状态，避免梯度爆炸\n",
    "        out,(hn,cn) = self.lstm(x,(h0.detach(),c0.detach()))\n",
    "        #只需要最后一层隐层的状态\n",
    "        out = self.fc(out[:,-1,:])\n",
    "        return out"
   ]
  },
  {
   "cell_type": "code",
   "execution_count": 24,
   "id": "20ef28bd",
   "metadata": {},
   "outputs": [],
   "source": [
    "#初始化模型\n",
    "input_dim = 28\n",
    "hidden_dim = 100\n",
    "layer_dim = 1\n",
    "output_dim = 10\n",
    "\n",
    "model = LSTM_Model(input_dim,hidden_dim,layer_dim,output_dim)\n",
    "\n",
    "device = torch.device('cpu')"
   ]
  },
  {
   "cell_type": "code",
   "execution_count": 25,
   "id": "8e1ca5bb",
   "metadata": {},
   "outputs": [
    {
     "name": "stdout",
     "output_type": "stream",
     "text": [
      "参数：1\n",
      "<built-in method size of Parameter object at 0x0000022EFCD3E300>\n",
      "参数：2\n",
      "<built-in method size of Parameter object at 0x0000022E82CAEB00>\n",
      "参数：3\n",
      "<built-in method size of Parameter object at 0x0000022E82CB4E00>\n",
      "参数：4\n",
      "<built-in method size of Parameter object at 0x0000022E82CB4340>\n",
      "参数：5\n",
      "<built-in method size of Parameter object at 0x0000022EFFFCC400>\n",
      "参数：6\n",
      "<built-in method size of Parameter object at 0x0000022E82CB4AC0>\n"
     ]
    }
   ],
   "source": [
    "#循环查看\n",
    "for i in range(len(list(model.parameters()))):\n",
    "    print(\"参数：%d\"%(i+1))\n",
    "    print(list(model.parameters())[i].size)"
   ]
  },
  {
   "cell_type": "code",
   "execution_count": 26,
   "id": "86bfa633",
   "metadata": {},
   "outputs": [],
   "source": [
    "#初始化损失函数\n",
    "criterion = nn.CrossEntropyLoss()\n",
    "\n",
    "#优化器\n",
    "learning_rate = 0.01\n",
    "optimizer = torch.optim.SGD(model.parameters(),lr=learning_rate)"
   ]
  },
  {
   "cell_type": "code",
   "execution_count": 27,
   "id": "1f31cf40",
   "metadata": {},
   "outputs": [
    {
     "name": "stdout",
     "output_type": "stream",
     "text": [
      "loop:2000.Loss:2.2721362113952637,Accuracy:12.449999809265137\n",
      "loop:4000.Loss:2.300668954849243,Accuracy:18.34000015258789\n",
      "loop:6000.Loss:2.189772605895996,Accuracy:29.339998245239258\n",
      "loop:8000.Loss:1.893756628036499,Accuracy:45.59000015258789\n",
      "loop:10000.Loss:0.7909048199653625,Accuracy:72.98999786376953\n",
      "loop:12000.Loss:0.25427550077438354,Accuracy:85.7699966430664\n",
      "loop:14000.Loss:0.37024274468421936,Accuracy:89.38999938964844\n",
      "loop:16000.Loss:0.1732688695192337,Accuracy:92.94000244140625\n",
      "loop:18000.Loss:0.22323401272296906,Accuracy:94.20999908447266\n",
      "loop:20000.Loss:0.2712418735027313,Accuracy:95.38999938964844\n",
      "loop:22000.Loss:0.3221069276332855,Accuracy:95.19000244140625\n"
     ]
    }
   ],
   "source": [
    "#模型训练\n",
    "\n",
    "sequence_dim = 28\n",
    "loss_list = []\n",
    "accuracy_list = []\n",
    "iteration_list = []\n",
    "iter = 0\n",
    "for epoch in range(EPOCHS):\n",
    "    for i,(images,labels) in enumerate(train_loader):\n",
    "        model.train()\n",
    "        \n",
    "        images = images.view(-1,sequence_dim,input_dim).requires_grad_().to(device)\n",
    "        labels = labels.to(device)\n",
    "        \n",
    "        optimizer.zero_grad()\n",
    "        \n",
    "        outputs = model(images)\n",
    "        loss = criterion(outputs,labels)\n",
    "        \n",
    "        loss.backward()\n",
    "        \n",
    "        optimizer.step()\n",
    "        \n",
    "        iter += 1\n",
    "        \n",
    "        if iter%2000 == 0:\n",
    "            model.eval()\n",
    "            correct = 0.0\n",
    "            total = 0.0 \n",
    "            for images,labels in test_loader:\n",
    "                images = images.view(-1,sequence_dim,input_dim).to(device)\n",
    "                outputs = model(images)\n",
    "                predict = torch.max(outputs.data,1)[1]\n",
    "                total += labels.size(0)\n",
    "                correct += (predict == labels).sum()\n",
    "                \n",
    "            accuracy = correct / total *100\n",
    "            loss_list.append(loss.data)\n",
    "            accuracy_list.append(accuracy)\n",
    "            iteration_list.append(iter)\n",
    "            print(\"loop:{}.Loss:{},Accuracy:{}\".format(iter,loss.item(),accuracy))"
   ]
  },
  {
   "cell_type": "code",
   "execution_count": 28,
   "id": "96eeb522",
   "metadata": {},
   "outputs": [
    {
     "data": {
      "image/png": "[encoded data removed]",
      "text/plain": [
       "<Figure size 432x288 with 1 Axes>"
      ]
     },
     "metadata": {
      "needs_background": "light"
     },
     "output_type": "display_data"
    }
   ],
   "source": [
    "#可视化\n",
    "plt.plot(iteration_list, loss_list)\n",
    "plt.xlabel('number of Iteration')\n",
    "plt.ylabel('Loss')\n",
    "plt.title('LSTM')\n",
    "plt.show()"
   ]
  },
  {
   "cell_type": "code",
   "execution_count": 29,
   "id": "7622cbba",
   "metadata": {},
   "outputs": [
    {
     "data": {
      "image/png": "[encoded data removed]",
      "text/plain": [
       "<Figure size 432x288 with 1 Axes>"
      ]
     },
     "metadata": {
      "needs_background": "light"
     },
     "output_type": "display_data"
    }
   ],
   "source": [
    "plt.plot(iteration_list,accuracy_list)\n",
    "plt.xlabel('number of Iteration')\n",
    "plt.ylabel('Acc')\n",
    "plt.title('LSTM')\n",
    "plt.show()"
   ]
  },
  {
   "cell_type": "code",
   "execution_count": null,
   "id": "4f805f63",
   "metadata": {},
   "outputs": [],
   "source": []
  }
 ],
 "metadata": {
  "kernelspec": {
   "display_name": "Python 3",
   "language": "python",
   "name": "python3"
  },
  "language_info": {
   "codemirror_mode": {
    "name": "ipython",
    "version": 3
   },
   "file_extension": ".py",
   "mimetype": "text/x-python",
   "name": "python",
   "nbconvert_exporter": "python",
   "pygments_lexer": "ipython3",
   "version": "3.8.8"
  }
 },
 "nbformat": 4,
 "nbformat_minor": 5
}
